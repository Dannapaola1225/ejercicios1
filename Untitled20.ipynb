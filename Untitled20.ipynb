{
  "nbformat": 4,
  "nbformat_minor": 0,
  "metadata": {
    "colab": {
      "provenance": [],
      "authorship_tag": "ABX9TyMmna93XoIMjn7/aMZOpK2j",
      "include_colab_link": true
    },
    "kernelspec": {
      "name": "python3",
      "display_name": "Python 3"
    },
    "language_info": {
      "name": "python"
    }
  },
  "cells": [
    {
      "cell_type": "markdown",
      "metadata": {
        "id": "view-in-github",
        "colab_type": "text"
      },
      "source": [
        "<a href=\"https://colab.research.google.com/github/Dannapaola1225/ejercicios1/blob/main/Untitled20.ipynb\" target=\"_parent\"><img src=\"https://colab.research.google.com/assets/colab-badge.svg\" alt=\"Open In Colab\"/></a>"
      ]
    },
    {
      "cell_type": "markdown",
      "source": [
        "# ***Método de Neville***\n",
        "Los valores de diferentes polinomios de interpolación en x=1.5 se obtuvieron en la ilustración al inicio de esta sección usando los datos que se muestran en la tabla 3.5. Aplique el método de Neville a los datos mediante la construcción de una tabla recursiva de la forma\n",
        "que se observa en la tabla 3.4."
      ],
      "metadata": {
        "id": "hoIxHR4pxNYI"
      }
    },
    {
      "cell_type": "code",
      "execution_count": null,
      "metadata": {
        "id": "7qQ3ZX31MpQ5"
      },
      "outputs": [],
      "source": [
        "#declaramos librerias a emplear\n",
        "import numpy as np\n",
        "import matplotlib.pyplot as plt\n",
        "import sympy as syp\n",
        "import scipy.special as spc\n",
        "from math import *"
      ]
    },
    {
      "cell_type": "code",
      "source": [
        "#formamos los arreglos\n",
        "x =np.array([0, 1, 2, 3, 4,])\n",
        "y =np.array([1.0,1.3,1.6,1.9,2.2,])\n",
        "a=1.5\n",
        ""
      ],
      "metadata": {
        "id": "aSoWdgW1Qet4"
      },
      "execution_count": 11,
      "outputs": []
    },
    {
      "cell_type": "code",
      "source": [
        "print (y)\n",
        "print (x)"
      ],
      "metadata": {
        "colab": {
          "base_uri": "https://localhost:8080/"
        },
        "collapsed": true,
        "id": "25copeP7wHWt",
        "outputId": "8c2f8454-3c9f-450b-ba04-9fff631784ab"
      },
      "execution_count": null,
      "outputs": [
        {
          "output_type": "stream",
          "name": "stdout",
          "text": [
            "[0 1 2 3 4]\n",
            "[1.  1.3 1.6 1.9 2.2]\n"
          ]
        }
      ]
    },
    {
      "cell_type": "code",
      "source": [
        "n = len(x)\n",
        "Q = [[0 for _ in range(n)] for _ in range(n)]  # Matriz Q inicializada con ceros\n",
        "\n",
        "    # Paso 1: Inicializar la primera columna con los valores f(x)\n",
        "for i in range(n):\n",
        "        Q[i][0] = y[i]\n",
        "\n",
        "    # Paso 2: Calcular Q[i,j] de acuerdo con la fórmula del método de Neville\n",
        "for j in range(1, n):\n",
        "    for i in range(n - j):\n",
        "            Q[i][j] = ((a - x[i + j]) * Q[i][j - 1] -\n",
        "                       (a - x[i]) * Q[i + 1][j - 1]) / \\\n",
        "                      (x[i] - x[i + j])\n",
        "\n",
        "    # El valor interpolado es el primer elemento de la última columna calculada\n",
        "return Q[0][n - 1]\n"
      ],
      "metadata": {
        "id": "PcsSyc2UxDV0"
      },
      "execution_count": null,
      "outputs": []
    }
  ]
}