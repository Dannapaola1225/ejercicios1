{
  "nbformat": 4,
  "nbformat_minor": 0,
  "metadata": {
    "colab": {
      "provenance": [],
      "authorship_tag": "ABX9TyNqQJ3uQp4vLLStzZZzNwql",
      "include_colab_link": true
    },
    "kernelspec": {
      "name": "python3",
      "display_name": "Python 3"
    },
    "language_info": {
      "name": "python"
    }
  },
  "cells": [
    {
      "cell_type": "markdown",
      "metadata": {
        "id": "view-in-github",
        "colab_type": "text"
      },
      "source": [
        "<a href=\"https://colab.research.google.com/github/Dannapaola1225/ejercicios1/blob/main/Factorizaci%C3%B3n%20LU.ipynb\" target=\"_parent\"><img src=\"https://colab.research.google.com/assets/colab-badge.svg\" alt=\"Open In Colab\"/></a>"
      ]
    },
    {
      "cell_type": "code",
      "execution_count": 18,
      "metadata": {
        "id": "Ndtd76uD23iw"
      },
      "outputs": [],
      "source": [
        "import numpy as np\n",
        "\n",
        "def factorizacion_LU(A):\n",
        "    n = len(A)\n",
        "    # Matrices inicializadas\n",
        "    L = np.eye(( n))\n",
        "    U = np.zeros((n, n))\n",
        "    for i in range(n):\n",
        "    #comprobamos que si se puede realizar la factorización (1)\n",
        "      if A[i][i]==0:\n",
        "        raise ValueError(\"factorización imposible\")\n",
        "\n",
        "    #calculamos primera fila y primera columna de L y U respectivamente  (2)\n",
        "    #primera fila de u\n",
        "    for j in range(n):\n",
        "        U[0, j] = A[0, j]  # Primera fila de U\n",
        "    for i in range(n):\n",
        "        L[i, 0] = A[i, 0] / U[0, 0]  # Primera columna de L\n",
        "\n",
        "    # Paso 3 y siguientes: Calcular el resto de L y U\n",
        "    #seleccionamos L y U para satisfacer la igualdad (4)\n",
        "    for i in range(1, n):\n",
        "        if A[i, i] == 0:\n",
        "            raise ValueError(\"Factorización imposible: pivote nulo.\")\n",
        "\n",
        "        for j in range(i, n):  # Calcular elementos de U\n",
        "            U[i, j] = A[i, j] - sum(L[i, k] * U[k, j] for k in range(i))\n",
        "\n",
        "        for j in range(i + 1, n):  # Calcular elementos de L\n",
        "            L[j, i] = (A[j, i] - sum(L[j, k] * U[k, i] for k in range(i))) / U[i, i]\n",
        "\n",
        "        if U[i,i]==0:\n",
        "            raise ValueError(\"la matriz es singular\")\n",
        "    return L, U\n"
      ]
    },
    {
      "cell_type": "code",
      "source": [
        "def eliminacion_gaussiana(A, b):\n",
        "    n = len(b)\n",
        "    A = np.array(A, dtype=float)  # Asegurar cálculos con flotantes\n",
        "    b = np.array(b, dtype=float)  # Asegurar cálculos con flotantes\n",
        "\n",
        "    # Inicializar la lista de matrices intermedias\n",
        "    matrices_intermedias = []\n",
        "    matrices_intermedias.append(np.hstack((A.copy(), b.reshape(-1, 1))))\n",
        "\n",
        "    # Proceso de eliminación gaussiana\n",
        "    for i in range(n):\n",
        "        # Encontrar el mayor pivote absoluto en la columna actual\n",
        "        max_row_index = np.argmax(abs(A[i:, i])) + i\n",
        "        if A[max_row_index, i] == 0:\n",
        "            raise ValueError(\"El sistema no tiene solución única (pivote nulo encontrado).\")\n",
        "\n",
        "        # Intercambiar la fila actual con la fila del mayor pivote\n",
        "        if i != max_row_index:\n",
        "            A[[i, max_row_index]] = A[[max_row_index, i]]\n",
        "            b[[i, max_row_index]] = b[[max_row_index, i]]\n",
        "\n",
        "        # Eliminar los elementos debajo del pivote\n",
        "        for j in range(i + 1, n):\n",
        "            factor = A[j, i] / A[i, i]\n",
        "            A[j, i:] -= factor * A[i, i:]\n",
        "            b[j] -= factor * b[i]\n",
        "\n",
        "        # Almacenar la matriz intermedia\n",
        "        matrices_intermedias.append(np.hstack((A.copy(), b.reshape(-1, 1))))\n",
        "\n",
        "    # Sustitución hacia atrás\n",
        "    x = np.zeros(n)\n",
        "    for i in range(n - 1, -1, -1):\n",
        "        x[i] = (b[i] - np.dot(A[i, i + 1:], x[i + 1:])) / A[i, i]\n",
        "\n",
        "    print(\"\\nMatriz Aumentada después de la sustitución hacia atrás:\")\n",
        "    print(np.hstack((A, b.reshape(-1, 1))))\n",
        "# Sustitución hacia atrás\n",
        "    x = np.zeros(n)\n",
        "    for i in range(n - 1, -1, -1):\n",
        "        x[i] = (b[i] - np.dot(A[i, i + 1:], x[i + 1:])) / A[i, i]\n",
        "\n",
        "    # Almacenar la matriz final\n",
        "    matrices_intermedias.append(np.hstack((A.copy(), b.reshape(-1, 1))))\n",
        "\n",
        "    return x, matrices_intermedias\n"
      ],
      "metadata": {
        "id": "oIERD7DYnyvH"
      },
      "execution_count": 19,
      "outputs": []
    },
    {
      "cell_type": "code",
      "source": [
        "# En este aaprtado se ingresan los valores iniciales\n",
        "if __name__ == \"__main__\":\n",
        "    A = np.array([[1, 1, 0, 3], [2, 1, -1, 1], [3, -1, -1, 2], [-1, 2, 3, -1]], dtype=float)\n",
        "    b = np.array([4, 1, -3, 4], dtype=float)\n",
        "    try:\n",
        "        L, U = factorizacion_LU(A)\n",
        "        print(\"Factorización LU\")\n",
        "        print(\"Matriz A:\")\n",
        "        print(A)\n",
        "        print(\"Matriz L resultante:\")\n",
        "        print(L)\n",
        "        print(\"Matriz U resultante:\")\n",
        "        print(U)\n",
        "\n",
        "        x, matrices_intermedias = eliminacion_gaussiana(A, b)\n",
        "        print(\"\\nSolución del sistema por el étodo de sustitución hacia atrás hacia atrás:\")\n",
        "        resultado= x\n",
        "        for i in range(len(resultado)):\n",
        "            print(f\"x{i+1} = {resultado[i]:.1f}\")\n",
        "\n",
        "\n",
        "\n",
        "    except ValueError as e:\n",
        "        print(\"Error:\", e)"
      ],
      "metadata": {
        "colab": {
          "base_uri": "https://localhost:8080/"
        },
        "id": "-csqlbT4nc5i",
        "outputId": "48428cb3-b3ec-4674-9132-8dc8658f921b"
      },
      "execution_count": 17,
      "outputs": [
        {
          "output_type": "stream",
          "name": "stdout",
          "text": [
            "Factorización LU\n",
            "Matriz A:\n",
            "[[ 1.  1.  0.  3.]\n",
            " [ 2.  1. -1.  1.]\n",
            " [ 3. -1. -1.  2.]\n",
            " [-1.  2.  3. -1.]]\n",
            "Matriz L resultante:\n",
            "[[ 1.  0.  0.  0.]\n",
            " [ 2.  1.  0.  0.]\n",
            " [ 3.  4.  1.  0.]\n",
            " [-1. -3.  0.  1.]]\n",
            "Matriz U resultante:\n",
            "[[  1.   1.   0.   3.]\n",
            " [  0.  -1.  -1.  -5.]\n",
            " [  0.   0.   3.  13.]\n",
            " [  0.   0.   0. -13.]]\n",
            "\n",
            "Matriz Aumentada después de la sustitución hacia atrás:\n",
            "[[ 3.00000000e+00 -1.00000000e+00 -1.00000000e+00  2.00000000e+00\n",
            "  -3.00000000e+00]\n",
            " [ 0.00000000e+00  1.66666667e+00  2.66666667e+00 -3.33333333e-01\n",
            "   3.00000000e+00]\n",
            " [ 0.00000000e+00  0.00000000e+00 -3.00000000e+00  5.55111512e-17\n",
            "   4.44089210e-16]\n",
            " [ 0.00000000e+00  0.00000000e+00  0.00000000e+00  2.60000000e+00\n",
            "   2.60000000e+00]]\n",
            "\n",
            "Solución del sistema por el étodo de sustitución hacia atrás hacia atrás:\n",
            "x1 = -1.0\n",
            "x2 = 2.0\n",
            "x3 = -0.0\n",
            "x4 = 1.0\n"
          ]
        }
      ]
    }
  ]
}