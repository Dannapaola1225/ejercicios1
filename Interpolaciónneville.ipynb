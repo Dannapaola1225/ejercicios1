{
  "nbformat": 4,
  "nbformat_minor": 0,
  "metadata": {
    "colab": {
      "provenance": [],
      "authorship_tag": "ABX9TyPmZIxw1r4RhF3vkYinIxyp",
      "include_colab_link": true
    },
    "kernelspec": {
      "name": "python3",
      "display_name": "Python 3"
    },
    "language_info": {
      "name": "python"
    }
  },
  "cells": [
    {
      "cell_type": "markdown",
      "metadata": {
        "id": "view-in-github",
        "colab_type": "text"
      },
      "source": [
        "<a href=\"https://colab.research.google.com/github/Dannapaola1225/ejercicios1/blob/main/Interpolaci%C3%B3nneville.ipynb\" target=\"_parent\"><img src=\"https://colab.research.google.com/assets/colab-badge.svg\" alt=\"Open In Colab\"/></a>"
      ]
    },
    {
      "cell_type": "markdown",
      "source": [
        "# ***Método de Neville***\n",
        "Los valores de diferentes polinomios de interpolación en x=1.5 se obtuvieron en la ilustración al inicio de esta sección usando los datos que se muestran en la tabla 3.5. Aplique el método de Neville a los datos mediante la construcción de una tabla recursiva de la forma\n",
        "que se observa en la tabla 3.4."
      ],
      "metadata": {
        "id": "hoIxHR4pxNYI"
      }
    },
    {
      "cell_type": "code",
      "source": [
        "def me_neville(x_i, y_i, x_e):\n",
        "  n = len(x_i)  # Cantidad de putos a emplear\n",
        "  Q = [[0 for _ in range(n)] for _ in range(n)]  # Matriz Q inicial\n",
        "\n",
        "  # coloca la primera columna con los valores f(x)\n",
        "  for i in range(n):\n",
        "    Q[i][0] = y_i[i]\n",
        "\n",
        "  # Calculamos con la fórmula del método de Neville\n",
        "  for j in range(1, n):\n",
        "      for i in range(n - j):\n",
        "          Q[i][j] = ((x_e - x_i[i + j]) * Q[i][j - 1] -\n",
        "                        (x_e - x_i[i]) * Q[i + 1][j - 1]) / \\\n",
        "                        (x_i[i] - x_i[i + j])\n",
        "\n",
        "  # El valor interpolado es el primer elemento de la última columna calculada\n",
        "  return Q[0][n - 1], Q\n",
        "\n",
        "x_i = [1.0, 1.3, 1.6, 1.9, 2.2]  # Puntos x\n",
        "y_i = [0.7651977, 0.6200860, 0.4554022, 0.2818186, 0.1103623]  # Valores f(x) correspondientes\n",
        "x_e = 1.5             # valor donde queremos evaluar\n",
        "\n",
        "r, Q = me_neville(x_i, y_i, x_e)\n",
        "for valores in Q:\n",
        "    print(valores)\n",
        "print(f\" x = El valor interpolado de {x_e} es: {r}\")"
      ],
      "metadata": {
        "id": "PcsSyc2UxDV0",
        "colab": {
          "base_uri": "https://localhost:8080/"
        },
        "outputId": "e68c9944-3f69-4a7e-cbd2-321fa7838ce6"
      },
      "execution_count": 15,
      "outputs": [
        {
          "output_type": "stream",
          "name": "stdout",
          "text": [
            "[0.7651977, 0.5233448666666667, 0.5124714777777778, 0.5118126938271604, 0.5118199942386831]\n",
            "[0.620086, 0.5102968, 0.5112856666666666, 0.5118302148148148, 0]\n",
            "[0.4554022, 0.5132634, 0.5137361333333335, 0, 0]\n",
            "[0.2818186, 0.5104269999999997, 0, 0, 0]\n",
            "[0.1103623, 0, 0, 0, 0]\n",
            " x = El valor interpolado de 1.5 es: 0.5118199942386831\n"
          ]
        }
      ]
    }
  ]
}