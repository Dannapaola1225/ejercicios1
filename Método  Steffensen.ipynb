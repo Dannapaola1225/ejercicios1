{
  "nbformat": 4,
  "nbformat_minor": 0,
  "metadata": {
    "colab": {
      "provenance": [],
      "authorship_tag": "ABX9TyNHEHBnNikZJTG/UsFst4Fv",
      "include_colab_link": true
    },
    "kernelspec": {
      "name": "python3",
      "display_name": "Python 3"
    },
    "language_info": {
      "name": "python"
    }
  },
  "cells": [
    {
      "cell_type": "markdown",
      "metadata": {
        "id": "view-in-github",
        "colab_type": "text"
      },
      "source": [
        "<a href=\"https://colab.research.google.com/github/Dannapaola1225/ejercicios1/blob/main/M%C3%A9todo%20%20Steffensen.ipynb\" target=\"_parent\"><img src=\"https://colab.research.google.com/assets/colab-badge.svg\" alt=\"Open In Colab\"/></a>"
      ]
    },
    {
      "cell_type": "code",
      "execution_count": 5,
      "metadata": {
        "id": "ZebPENDvnksR"
      },
      "outputs": [],
      "source": [
        "from math import *\n",
        "import math\n",
        "import numpy as np\n",
        "import matplotlib . pyplot as plt # libreria para graficar"
      ]
    },
    {
      "cell_type": "code",
      "source": [
        "#reescribimos la función f(x) para encontrar el punto fijo quedando de la forma presentada a continuación ademas de que f´(x)<1 por lo tanto existe el punto fijo\n",
        "\n",
        "def f(x):\n",
        "    return  np.cos(x)-2*(x)+3\n",
        "def h(x):\n",
        "    return  (np.cos(x)+3)/2"
      ],
      "metadata": {
        "id": "gdjZowC8oIJy"
      },
      "execution_count": 6,
      "outputs": []
    },
    {
      "cell_type": "code",
      "source": [
        "#guarda valores iniciales del error y del número de iteraciones\n",
        "\n",
        "#definimos en donde será evaluada la función\n",
        "g=f\n",
        "\n",
        "p0=1# aproximación inicial\n",
        "Nom = 100#número maximo de iteraciones\n",
        "\n",
        "#valores que nosotros colocamos\n",
        "tol = 10**(-5) #tolerancia\n",
        "error =100\n",
        "niter = 0 #contador de iteraciones (i)"
      ],
      "metadata": {
        "id": "YAp1DZeVoHXy"
      },
      "execution_count": 26,
      "outputs": []
    },
    {
      "cell_type": "code",
      "source": [
        "# comenzamos a aplicar el método de punto fijo\n",
        "\n",
        "#estructura de la tabla\n",
        "print(\"# iter\\t\\t p\\t\\t g(p) \\t\\t error\")\n",
        "#realizamos el ciclo de iteraciones\n",
        "#expresamos la condición en dónde si i(numero de iteraciones)<=No(número máximo de iteraciones)\n",
        "while  (niter<Nom)and (error>tol) : #ciclo iterativo\n",
        "       # Calcular p1 y p2\n",
        "        p1 = g(p0)\n",
        "        p2 = g(p1)\n",
        "        # Aplicar la fórmula de Steffensen\n",
        "    p = p0 - ((p1 - p0) ** 2) / (p2 - 2 * p1 + p0)\n",
        "\n",
        "    p= (p0) #aquí se calcula nuevamente p para las proximas iteraciones\n",
        "    error=abs(p-p0)#calculamos el error de la iteración\n",
        "\n",
        "#imprime los valores arrojados\n",
        "    print(\"{0} \\t\\t {1:6.6f} \\t {2:6.6f} \\t {3:6.6f}\".format(niter, p0, p, error))\n",
        "\n",
        "#ponemos una condición en dónde si el error es menor que la tolerancia, el procedimiento será exitoso\n",
        "    if error < tol:\n",
        "       print(f\"Convergencia alcanzada en la iteración {niter}.\")\n",
        "       break  # Salimos del bucle si se alcanza la tolerancia\n",
        "\n",
        "    p0=p #damos el nuevo valor a p0 que seria p, esto es para la sig. iteración\n",
        "    niter += 1 #aumenta el numero del contador de iteraciones\n",
        "\n",
        "    if niter==Nom:\n",
        "        print(\"el procedimiento no fue exitoso, no converge en el número máximo de iteraciones \")\n",
        "\n",
        "print(\"La raíz de la función es {0:6.7f}\".format(p))\n",
        "print (\"con un error de:{0:6.7f}\".format(error))"
      ],
      "metadata": {
        "colab": {
          "base_uri": "https://localhost:8080/"
        },
        "id": "ESxYW2GcoZ_2",
        "outputId": "861fd3c9-0b41-4121-a3e7-e9fc0fe3f6ec"
      },
      "execution_count": 34,
      "outputs": [
        {
          "output_type": "stream",
          "name": "stdout",
          "text": [
            "# iter\t\t p\t\t g(p) \t\t error\n",
            "0 \t\t 1.000000 \t 1.000000 \t 0.000000\n",
            "Convergencia alcanzada en la iteración 0.\n",
            "La raíz de la función es 1.0000000\n",
            "con un error de:0.0000000\n"
          ]
        }
      ]
    }
  ]
}