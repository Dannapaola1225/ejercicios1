{
  "nbformat": 4,
  "nbformat_minor": 0,
  "metadata": {
    "colab": {
      "provenance": [],
      "authorship_tag": "ABX9TyOc/QmIU/7n/DFQmdEjDwgB",
      "include_colab_link": true
    },
    "kernelspec": {
      "name": "python3",
      "display_name": "Python 3"
    },
    "language_info": {
      "name": "python"
    }
  },
  "cells": [
    {
      "cell_type": "markdown",
      "metadata": {
        "id": "view-in-github",
        "colab_type": "text"
      },
      "source": [
        "<a href=\"https://colab.research.google.com/github/Dannapaola1225/ejercicios1/blob/main/Newton.ipynb\" target=\"_parent\"><img src=\"https://colab.research.google.com/assets/colab-badge.svg\" alt=\"Open In Colab\"/></a>"
      ]
    },
    {
      "cell_type": "code",
      "execution_count": 1,
      "metadata": {
        "id": "x2Hs_op36Uzt"
      },
      "outputs": [],
      "source": [
        "from math import *\n",
        "import numpy as np\n",
        "import matplotlib . pyplot as plt # libreria para graficar"
      ]
    },
    {
      "cell_type": "code",
      "source": [
        "#colocamos la función dada\n",
        "def f(x):\n",
        "    return  ((x**3)-x-1)\n",
        "#derivada de la función f(x)\n",
        "def g(x):\n",
        "    return  (3*(x**2)-1)"
      ],
      "metadata": {
        "id": "KZNzd0ID6aCX"
      },
      "execution_count": 2,
      "outputs": []
    },
    {
      "cell_type": "code",
      "source": [
        "x=np.linspace(0,2,100)\n",
        "plt.plot(x,f(x))\n",
        "plt.plot(x,g(x))\n",
        "plt.axhline(0, color=\"black\")\n",
        "plt.axvline(0, color=\"black\")\n",
        "#plt.xlim(-5, 5)\n",
        "#plt.ylim(-5, 5)\n",
        "plt.show()"
      ],
      "metadata": {
        "id": "-ifndzlUpxC7",
        "outputId": "ac67a978-13d8-40be-f1a7-980208a02512",
        "colab": {
          "base_uri": "https://localhost:8080/",
          "height": 240
        }
      },
      "execution_count": 5,
      "outputs": [
        {
          "output_type": "display_data",
          "data": {
            "text/plain": [
              "<Figure size 640x480 with 1 Axes>"
            ],
            "image/png": "[encoded data removed]"
          },
          "metadata": {}
        }
      ]
    },
    {
      "cell_type": "code",
      "source": [
        "#definimos valores\n",
        "f==f #función dada\n",
        "g==g #derivada de la función\n",
        "#valores que nosotros colocamos\n",
        "p0=1# aproximación inicial\n",
        "Nom = 100#número maximo de iteraciones\n",
        "tol = 10**(-2) #tolerancia\n",
        "\n",
        "error =100 #\n",
        "niter = 1 #contador de iteraciones (i)"
      ],
      "metadata": {
        "id": "OmtcWiQJimHu"
      },
      "execution_count": 6,
      "outputs": []
    },
    {
      "cell_type": "code",
      "source": [
        "# comenzamos a aplicar el método de Newton\n",
        "\n",
        "#estructura de la tabla\n",
        "print(\"# iter\\t\\t p\\t\\t f(p) \\t\\t g(p) \\t\\t error\")\n",
        "\n",
        "#realizamos el ciclo de iteraciones\n",
        "#expresamos la condición en dónde si i(numero de iteraciones)<=No(número máximo de iteraciones)\n",
        "while  niter <= Nom : #ciclo iterativo\n",
        "    p= p0-f(p0)/g(p0) #aquí se calcula p para las iteraciones\n",
        "    error=abs(p-p0)#calculamos el error de la iteración\n",
        "\n",
        "#imprime los valores arrojados\n",
        "    print(\"{0} \\t\\t {1:6.6f} \\t {2:6.6f} \\t {3:6.6f} \\t{4:6.6}\".format(niter, p0, p, p, error))\n",
        "\n",
        "#ponemos una condición en dónde si el error es menor que la tolerancia, el procedimiento será exitoso\n",
        "    if error < tol:\n",
        "       print(f\"Convergencia alcanzada en la iteración {niter}.\")\n",
        "       break  # Salimos del bucle si se alcanza la tolerancia\n",
        "\n",
        "    p0=p #damos el nuevo valor a p0 que seria p, esto es para la sig. iteración\n",
        "    niter += 1 #aumenta el numero del contador de iteraciones\n",
        "\n",
        "    if niter==Nom:\n",
        "        print(\"el procedimiento no fue exitoso, no converge en el número máximo de iteraciones \")\n",
        "\n",
        "\n",
        "print(\"La raíz de la función dada es {0:6.7f}\".format(p))\n",
        "print (\"con un error de:{0:6.7f}\".format(error))"
      ],
      "metadata": {
        "id": "BmXWg0hKkOlQ",
        "outputId": "14aa8437-2644-4334-9f07-bd01d37ac5c1",
        "colab": {
          "base_uri": "https://localhost:8080/"
        }
      },
      "execution_count": 7,
      "outputs": [
        {
          "output_type": "stream",
          "name": "stdout",
          "text": [
            "# iter\t\t p\t\t f(p) \t\t g(p) \t\t error\n",
            "1 \t\t 1.000000 \t 1.500000 \t 1.500000 \t   0.5\n",
            "2 \t\t 1.500000 \t 1.347826 \t 1.347826 \t0.152174\n",
            "3 \t\t 1.347826 \t 1.325200 \t 1.325200 \t0.0226257\n",
            "4 \t\t 1.325200 \t 1.324718 \t 1.324718 \t0.000482225\n",
            "Convergencia alcanzada en la iteración 4.\n",
            "La raíz de la función dada es 1.3247182\n",
            "con un error de:0.0004822\n"
          ]
        }
      ]
    }
  ]
}