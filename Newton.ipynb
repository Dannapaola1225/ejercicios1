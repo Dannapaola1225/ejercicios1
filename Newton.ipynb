{
  "nbformat": 4,
  "nbformat_minor": 0,
  "metadata": {
    "colab": {
      "provenance": [],
      "toc_visible": true,
      "authorship_tag": "ABX9TyPJ5gzhnllncklYLAMXvfu3",
      "include_colab_link": true
    },
    "kernelspec": {
      "name": "python3",
      "display_name": "Python 3"
    },
    "language_info": {
      "name": "python"
    }
  },
  "cells": [
    {
      "cell_type": "markdown",
      "metadata": {
        "id": "view-in-github",
        "colab_type": "text"
      },
      "source": [
        "<a href=\"https://colab.research.google.com/github/Dannapaola1225/ejercicios1/blob/main/Newton.ipynb\" target=\"_parent\"><img src=\"https://colab.research.google.com/assets/colab-badge.svg\" alt=\"Open In Colab\"/></a>"
      ]
    },
    {
      "cell_type": "code",
      "execution_count": null,
      "metadata": {
        "id": "x2Hs_op36Uzt"
      },
      "outputs": [],
      "source": [
        "from math import *\n",
        "import numpy as np\n",
        "import matplotlib . pyplot as plt # libreria para graficar"
      ]
    },
    {
      "cell_type": "code",
      "source": [
        "#reescribimos la función f(x)=x^3-x-1 para encontrar el punto fijo quedando de la forma presentada a continuación ademas de que f´(x)<1 por lo tanto existe el punto fijo\n",
        "def funcion1(x):\n",
        "    return  (x+1)**(1/3)\n",
        "def f(x):\n",
        "    return  ((x**3)-x-1)"
      ],
      "metadata": {
        "id": "KZNzd0ID6aCX"
      },
      "execution_count": null,
      "outputs": []
    },
    {
      "cell_type": "code",
      "source": [
        "guarda valores iniciales del error y del número de iteraciones\n",
        "\n",
        "#definimos en donde será evaluada la función\n",
        "g=funcion1\n",
        "\n",
        "#valores que nosotros colocamos\n",
        "p0=1# aproximación inicial\n",
        "Nom = 100#número maximo de iteraciones\n",
        "\n",
        "\n",
        "tol = 10**(-2) #tolerancia\n",
        "error =100 #\n",
        "niter = 0 #contador de iteraciones (i)"
      ],
      "metadata": {
        "id": "OmtcWiQJimHu"
      },
      "execution_count": null,
      "outputs": []
    }
  ]
}