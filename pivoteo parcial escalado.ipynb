{
  "nbformat": 4,
  "nbformat_minor": 0,
  "metadata": {
    "colab": {
      "provenance": [],
      "authorship_tag": "ABX9TyN8a1BCHYQS5PaQn4y+JgqD",
      "include_colab_link": true
    },
    "kernelspec": {
      "name": "python3",
      "display_name": "Python 3"
    },
    "language_info": {
      "name": "python"
    }
  },
  "cells": [
    {
      "cell_type": "markdown",
      "metadata": {
        "id": "view-in-github",
        "colab_type": "text"
      },
      "source": [
        "<a href=\"https://colab.research.google.com/github/Dannapaola1225/ejercicios1/blob/main/pivoteo%20parcial%20escalado.ipynb\" target=\"_parent\"><img src=\"https://colab.research.google.com/assets/colab-badge.svg\" alt=\"Open In Colab\"/></a>"
      ]
    },
    {
      "cell_type": "markdown",
      "source": [
        "# ***Pivoteo parcial escalado***"
      ],
      "metadata": {
        "id": "bgRDsd498mNE"
      }
    },
    {
      "cell_type": "markdown",
      "source": [],
      "metadata": {
        "id": "YG9fdPSFoXVn"
      }
    },
    {
      "cell_type": "code",
      "execution_count": null,
      "metadata": {
        "colab": {
          "base_uri": "https://localhost:8080/"
        },
        "id": "2VC49qMh7wy_",
        "outputId": "9700f2ea-f0fe-4c96-b1aa-112119035499"
      },
      "outputs": [
        {
          "output_type": "stream",
          "name": "stdout",
          "text": [
            "El NROW inicial del sistema es: [0 1 2]\n",
            "Matriz Aumentada que empleamos es:\n",
            "[[ 2.11  -4.21   0.921  2.01 ]\n",
            " [ 4.01  10.2   -1.12  -3.09 ]\n",
            " [ 1.09   0.987  0.832  4.21 ]]\n",
            "La solución del sistema es:\n",
            "[-0.42800441  0.42690323  5.11438861]\n"
          ]
        }
      ],
      "source": [
        "import numpy as np\n",
        "\n",
        "def pivoteo_parcial_escalado(A, b, n):\n",
        "    \"\"\"\n",
        "    Implementación del pivoteo parcial escalado para resolver sistemas de ecuaciones lineales.\n",
        "    \"\"\"\n",
        "    # Convertimos las matrices A y b a tipo float\n",
        "    A = A.astype(float)\n",
        "    b = b.astype(float)\n",
        "    n=len(A)\n",
        "    # Definimos el factor de escala Si para cada fila\n",
        "    s = np.max(np.abs(A), axis=1)  # Máximo absoluto por fila\n",
        "\n",
        "    # Verificamos si alguna escala es 0\n",
        "    if np.any(s == 0):\n",
        "        print(\"El sistema no tiene solución única (escala nula).\")\n",
        "        return None\n",
        "\n",
        "    # Inicializamos NROW como el índice de las filas\n",
        "    NROW = np.arange(n)\n",
        "    print(\"El NROW inicial del sistema es:\", NROW)\n",
        "\n",
        "    # Eliminación hacia adelante\n",
        "    for i in range(n-1):\n",
        "        # Determinar el pivote escalado\n",
        "        relaciones = np.abs(A[NROW[i:], i]) / s[NROW[i:]]\n",
        "        p = i + np.argmax(relaciones)\n",
        "\n",
        "        # Intercambiar las filas en NROW si es necesario\n",
        "        if NROW[i] != NROW[p]:\n",
        "            NROW[i], NROW[p] = NROW[p], NROW[i]\n",
        "\n",
        "        # Eliminación hacia adelante\n",
        "        for j in range(i + 1, n):\n",
        "            m = A[NROW[j], i] / A[NROW[i], i]\n",
        "            A[NROW[j], i:] -= m * A[NROW[i], i:]\n",
        "            b[NROW[j]] -= m * b[NROW[i]]\n",
        "\n",
        "    # realizamos la Sustitución hacia atrás\n",
        "    x = np.zeros(n)\n",
        "    for i in range(n - 1, -1, -1):\n",
        "        x[i] = (b[NROW[i]] - np.dot(A[NROW[i], i + 1:], x[i + 1:])) / A[NROW[i], i]\n",
        "\n",
        "    return x\n",
        "\n",
        "# # Definimos los valores a emplear\n",
        "A = np.array([[2.11, -4.21, 0.921],\n",
        "              [4.01, 10.2, -1.12],\n",
        "              [1.09, 0.987, 0.832]])\n",
        "b = np.array([2.01, -3.09, 4.21])\n",
        "n = len(A)  # Número de variables\n",
        "\n",
        "# Llamada a la función\n",
        "x = pivoteo_parcial_escalado(A, b, n)\n",
        "#creamos la matriz aumentada\n",
        "Ab = np.column_stack((A, b))\n",
        "# Imprimir la matriz inicial\n",
        "print(\"Matriz Aumentada que empleamos es:\")\n",
        "print(Ab)\n",
        "print(\"La solución del sistema es:\")\n",
        "print(x)\n"
      ]
    },
    {
      "cell_type": "markdown",
      "source": [
        "Ax=b"
      ],
      "metadata": {
        "id": "R1K2MWz3rgrZ"
      }
    }
  ]
}