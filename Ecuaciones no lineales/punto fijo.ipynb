{
  "cells": [
    {
      "cell_type": "markdown",
      "metadata": {
        "id": "view-in-github",
        "colab_type": "text"
      },
      "source": [
        "<a href=\"https://colab.research.google.com/github/Dannapaola1225/ejercicios1/blob/main/Ecuaciones%20no%20lineales/punto%20fijo.ipynb\" target=\"_parent\"><img src=\"https://colab.research.google.com/assets/colab-badge.svg\" alt=\"Open In Colab\"/></a>"
      ]
    },
    {
      "cell_type": "markdown",
      "id": "3154e14b",
      "metadata": {
        "id": "3154e14b"
      },
      "source": [
        "# Método de punto fijo"
      ]
    },
    {
      "cell_type": "code",
      "execution_count": 115,
      "id": "9d5e2287",
      "metadata": {
        "id": "9d5e2287"
      },
      "outputs": [],
      "source": [
        "from math import *\n",
        "import numpy as np\n",
        "import matplotlib . pyplot as plt # libreria para graficar"
      ]
    },
    {
      "cell_type": "code",
      "execution_count": 116,
      "id": "db980446",
      "metadata": {
        "id": "db980446"
      },
      "outputs": [],
      "source": [
        "#reescribimos la función f(x)=x^3-x-1 para encontrar el punto fijo quedando de la forma presentada a continuación ademas de que f´(x)<1 por lo tanto existe el punto fijo\n",
        "def funcion1(x):\n",
        "    return  (x+1)**(1/3)\n",
        "def f(x):\n",
        "    return  ((x**3)-x-1)"
      ]
    },
    {
      "cell_type": "code",
      "source": [
        "x=np.linspace(0,2,100)\n",
        "plt.plot(x,funcion1(x))\n",
        "plt.plot(x,f(x))\n",
        "plt.axhline(0, color=\"black\")\n",
        "plt.axvline(0, color=\"black\")\n",
        "#plt.xlim(-5, 5)\n",
        "#plt.ylim(-5, 5)\n",
        "plt.show()"
      ],
      "metadata": {
        "colab": {
          "base_uri": "https://localhost:8080/",
          "height": 430
        },
        "id": "e7A4mf6NEiQ4",
        "outputId": "8fe1625e-79d2-4a7d-8ff2-942b94521c41"
      },
      "id": "e7A4mf6NEiQ4",
      "execution_count": 119,
      "outputs": [
        {
          "output_type": "display_data",
          "data": {
            "text/plain": [
              "<Figure size 640x480 with 1 Axes>"
            ],
            "image/png": "[encoded data removed]"
          },
          "metadata": {}
        }
      ]
    },
    {
      "cell_type": "code",
      "execution_count": 120,
      "id": "679a51af",
      "metadata": {
        "id": "679a51af"
      },
      "outputs": [],
      "source": [
        "#guarda valores iniciales del error y del número de iteraciones\n",
        "\n",
        "#definimos en donde será evaluada la función\n",
        "g=funcion1\n",
        "\n",
        "p0=1# aproximación inicial\n",
        "Nom = 100#número maximo de iteraciones\n",
        "\n",
        "#valores que nosotros colocamos\n",
        "tol = 10**(-2) #tolerancia\n",
        "error =100 #\n",
        "niter = 0 #contador de iteraciones (i)"
      ]
    },
    {
      "cell_type": "code",
      "execution_count": 121,
      "id": "6b4c08a0",
      "metadata": {
        "colab": {
          "base_uri": "https://localhost:8080/"
        },
        "id": "6b4c08a0",
        "outputId": "6e83918c-6ccc-4970-861c-cc21ead3a503"
      },
      "outputs": [
        {
          "output_type": "stream",
          "name": "stdout",
          "text": [
            "# iter\t\t p\t\t g(p) \t\t error\n",
            "0 \t\t 1.000000 \t 1.259921 \t 0.259921\n",
            "1 \t\t 1.259921 \t 1.312294 \t 0.052373\n",
            "2 \t\t 1.312294 \t 1.322354 \t 0.010060\n",
            "3 \t\t 1.322354 \t 1.324269 \t 0.001915\n",
            "Convergencia alcanzada en la iteración 3.\n",
            "La raíz de la función dada es 1.3242687\n",
            "con un error de:0.0019149\n"
          ]
        }
      ],
      "source": [
        "# comenzamos a aplicar el método de punto fijo\n",
        "\n",
        "#estructura de la tabla\n",
        "print(\"# iter\\t\\t p\\t\\t g(p) \\t\\t error\")\n",
        "\n",
        "#realizamos el ciclo de iteraciones\n",
        "#expresamos la condición en dónde si i(numero de iteraciones)<=No(número máximo de iteraciones)\n",
        "while  niter <= Nom : #ciclo iterativo\n",
        "    p= g(p0) #aquí se calcula nuevamente p para las proximas iteraciones\n",
        "    error=abs(p-p0)#calculamos el error de la iteración\n",
        "\n",
        "#imprime los valores arrojados\n",
        "    print(\"{0} \\t\\t {1:6.6f} \\t {2:6.6f} \\t {3:6.6f}\".format(niter, p0, p, error))\n",
        "\n",
        "#ponemos una condición en dónde si el error es menor que la tolerancia, el procedimiento será exitoso\n",
        "    if error < tol:\n",
        "       print(f\"Convergencia alcanzada en la iteración {niter}.\")\n",
        "       break  # Salimos del bucle si se alcanza la tolerancia\n",
        "\n",
        "    p0=p #damos el nuevo valor a p0 que seria p, esto es para la sig. iteración\n",
        "    niter += 1 #aumenta el numero del contador de iteraciones\n",
        "\n",
        "    if niter==Nom:\n",
        "        print(\"el procedimiento no fue exitoso, no converge en el número máximo de iteraciones \")\n",
        "\n",
        "\n",
        "print(\"La raíz de la función dada es {0:6.7f}\".format(p))\n",
        "print (\"con un error de:{0:6.7f}\".format(error))"
      ]
    },
    {
      "cell_type": "code",
      "execution_count": null,
      "id": "b59ace03",
      "metadata": {
        "id": "b59ace03"
      },
      "outputs": [],
      "source": []
    }
  ],
  "metadata": {
    "kernelspec": {
      "display_name": "Python 3 (ipykernel)",
      "language": "python",
      "name": "python3"
    },
    "language_info": {
      "codemirror_mode": {
        "name": "ipython",
        "version": 3
      },
      "file_extension": ".py",
      "mimetype": "text/x-python",
      "name": "python",
      "nbconvert_exporter": "python",
      "pygments_lexer": "ipython3",
      "version": "3.7.3"
    },
    "colab": {
      "provenance": [],
      "include_colab_link": true
    }
  },
  "nbformat": 4,
  "nbformat_minor": 5
}