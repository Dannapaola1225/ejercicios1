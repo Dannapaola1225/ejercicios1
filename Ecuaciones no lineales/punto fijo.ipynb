{
  "cells": [
    {
      "cell_type": "markdown",
      "metadata": {
        "id": "view-in-github",
        "colab_type": "text"
      },
      "source": [
        "<a href=\"https://colab.research.google.com/github/Dannapaola1225/ejercicios1/blob/main/Ecuaciones%20no%20lineales/punto%20fijo.ipynb\" target=\"_parent\"><img src=\"https://colab.research.google.com/assets/colab-badge.svg\" alt=\"Open In Colab\"/></a>"
      ]
    },
    {
      "cell_type": "markdown",
      "id": "3154e14b",
      "metadata": {
        "id": "3154e14b"
      },
      "source": [
        "# Método de punto fijo"
      ]
    },
    {
      "cell_type": "code",
      "execution_count": 94,
      "id": "9d5e2287",
      "metadata": {
        "id": "9d5e2287"
      },
      "outputs": [],
      "source": [
        "from math import *\n",
        "import numpy as np\n",
        "import matplotlib . pyplot as plt # libreria para graficar"
      ]
    },
    {
      "cell_type": "code",
      "execution_count": 95,
      "id": "db980446",
      "metadata": {
        "id": "db980446"
      },
      "outputs": [],
      "source": [
        "#reescribimos la función f(x)=x^3-x-1 para encontrar el punto fijo quedando de la forma presentada a continuación ademas de que f´(x)<1 por lo tanto existe el punto fijo\n",
        "def funcion1(x):\n",
        "    return  (x-1)**(1/3)\n",
        "def f(x):\n",
        "    return  ((x**3)-x-1)"
      ]
    },
    {
      "cell_type": "code",
      "source": [
        "x=np.linspace(0,2,100)\n",
        "plt.plot(x,funcion1(x))\n",
        "plt.plot(x,f(x))\n",
        "plt.axhline(0, color=\"black\")\n",
        "plt.axvline(0, color=\"black\")\n",
        "#plt.xlim(-5, 5)\n",
        "#plt.ylim(-5, 5)\n",
        "plt.show()"
      ],
      "metadata": {
        "id": "e7A4mf6NEiQ4",
        "outputId": "6dec7062-690a-4231-8fe5-6c09d152e3f5",
        "colab": {
          "base_uri": "https://localhost:8080/",
          "height": 465
        }
      },
      "id": "e7A4mf6NEiQ4",
      "execution_count": 96,
      "outputs": [
        {
          "output_type": "stream",
          "name": "stderr",
          "text": [
            "<ipython-input-95-8b0e1098b89b>:3: RuntimeWarning: invalid value encountered in power\n",
            "  return  (x-1)**(1/3)\n"
          ]
        },
        {
          "output_type": "display_data",
          "data": {
            "text/plain": [
              "<Figure size 640x480 with 1 Axes>"
            ],
            "image/png": "[encoded data removed]"
          },
          "metadata": {}
        }
      ]
    },
    {
      "cell_type": "code",
      "execution_count": 97,
      "id": "679a51af",
      "metadata": {
        "id": "679a51af"
      },
      "outputs": [],
      "source": [
        "#guarda valores iniciales del error y del número de iteraciones\n",
        "\n",
        "#definimos en donde será evaluada la función\n",
        "g=funcion1\n",
        "\n",
        "p0=1# aproximación inicial\n",
        "Nom = 100#número maximo de iteraciones\n",
        "\n",
        "#valores que nosotros colocamos\n",
        "tol = 10**(-2) #tolerancia\n",
        "error =100 #\n",
        "niter = 0 #contador de iteraciones (i)"
      ]
    },
    {
      "cell_type": "code",
      "execution_count": 98,
      "id": "6b4c08a0",
      "metadata": {
        "colab": {
          "base_uri": "https://localhost:8080/"
        },
        "id": "6b4c08a0",
        "outputId": "4b0cf92d-ba54-4bad-b9e4-308aca8dc09e"
      },
      "outputs": [
        {
          "output_type": "stream",
          "name": "stdout",
          "text": [
            "# iter\t\t p\t\t g(p) \t\t error\n",
            "0 \t\t 1.000000 \t 0.000000 \t 1.000000\n",
            "1 \t\t 0.000000 \t 0.500000+0.866025j \t 1.000000\n",
            "2 \t\t 0.500000+0.866025j \t 0.766044+0.642788j \t 0.347296\n",
            "3 \t\t 0.766044+0.642788j \t 0.706754+0.526159j \t 0.130834\n",
            "4 \t\t 0.706754+0.526159j \t 0.649684+0.539585j \t 0.058628\n",
            "5 \t\t 0.649684+0.539585j \t 0.651538+0.566326j \t 0.026805\n",
            "6 \t\t 0.651538+0.566326j \t 0.663360+0.567258j \t 0.011858\n",
            "7 \t\t 0.663360+0.567258j \t 0.664596+0.562204j \t 0.005202\n",
            "Convergencia alcanzada en la iteración 7.\n",
            "La raíz de la función dada es 0.664596+0.562204j\n",
            "con un error de:0.005202\n"
          ]
        }
      ],
      "source": [
        "# comenzamos a aplicar el método de punto fijo\n",
        "\n",
        "#estructura de la tabla\n",
        "print(\"# iter\\t\\t p\\t\\t g(p) \\t\\t error\")\n",
        "\n",
        "#realizamos el ciclo de iteraciones\n",
        "#expresamos la condición en dónde si i(numero de iteraciones)<=No(número máximo de iteraciones)\n",
        "while error > tol and niter < Nom : #ciclo iterativo\n",
        "    p= g(p0) #aquí se calcula nuevamente p para las proximas iteraciones\n",
        "    error=abs(p-p0)#calculamos el error de la iteración\n",
        "\n",
        "#imprime los valores arrojados\n",
        "    print(\"{0} \\t\\t {1:6.6f} \\t {2:6.6f} \\t {3:6.6f}\".format(niter, p0, p, error))\n",
        "\n",
        "#ponemos una condición en dónde si el error es menor que la tolerancia, el procedimiento será exitoso\n",
        "    if error < tol:\n",
        "       print(f\"Convergencia alcanzada en la iteración {niter}.\")\n",
        "       break  # Salimos del bucle si se alcanza la tolerancia\n",
        "\n",
        "    p0=p #damos el nuevo valor a p0 que seria p, esto es para la sig. iteración\n",
        "    niter += 1 #aumenta el numero del contador de iteraciones\n",
        "\n",
        "    if niter==Nom:\n",
        "        print(\"el procedimiento no fue exitoso, no converge en el número máximo de iteraciones \")\n",
        "\n",
        "\n",
        "print(\"La raíz de la función dada es {0:6.6f}\".format(p))\n",
        "print (\"con un error de:{0:6.6f}\".format(error))"
      ]
    },
    {
      "cell_type": "code",
      "execution_count": null,
      "id": "b59ace03",
      "metadata": {
        "id": "b59ace03"
      },
      "outputs": [],
      "source": []
    }
  ],
  "metadata": {
    "kernelspec": {
      "display_name": "Python 3 (ipykernel)",
      "language": "python",
      "name": "python3"
    },
    "language_info": {
      "codemirror_mode": {
        "name": "ipython",
        "version": 3
      },
      "file_extension": ".py",
      "mimetype": "text/x-python",
      "name": "python",
      "nbconvert_exporter": "python",
      "pygments_lexer": "ipython3",
      "version": "3.7.3"
    },
    "colab": {
      "provenance": [],
      "include_colab_link": true
    }
  },
  "nbformat": 4,
  "nbformat_minor": 5
}