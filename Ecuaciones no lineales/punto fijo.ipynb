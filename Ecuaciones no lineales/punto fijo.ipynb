{
  "cells": [
    {
      "cell_type": "markdown",
      "metadata": {
        "id": "view-in-github",
        "colab_type": "text"
      },
      "source": [
        "<a href=\"https://colab.research.google.com/github/Dannapaola1225/ejercicios1/blob/main/Ecuaciones%20no%20lineales/punto%20fijo.ipynb\" target=\"_parent\"><img src=\"https://colab.research.google.com/assets/colab-badge.svg\" alt=\"Open In Colab\"/></a>"
      ]
    },
    {
      "cell_type": "markdown",
      "id": "3154e14b",
      "metadata": {
        "id": "3154e14b"
      },
      "source": [
        "# Método de punto fijo"
      ]
    },
    {
      "cell_type": "code",
      "execution_count": 32,
      "id": "9d5e2287",
      "metadata": {
        "id": "9d5e2287"
      },
      "outputs": [],
      "source": [
        "from math import *\n",
        "import numpy as np\n",
        "import matplotlib . pyplot as plt # libreria para graficar"
      ]
    },
    {
      "cell_type": "code",
      "execution_count": 33,
      "id": "db980446",
      "metadata": {
        "id": "db980446"
      },
      "outputs": [],
      "source": [
        "#reescribimos la función f(x)=x^3-x-1 para encontrar el punto fijo quedando de la forma presentada a continuación ademas de que f´(x)<1 por lo tanto existe el punto fijo\n",
        "def funcion1(x):\n",
        "    return  (x-1)**(1/3)"
      ]
    },
    {
      "cell_type": "code",
      "execution_count": 34,
      "id": "679a51af",
      "metadata": {
        "colab": {
          "base_uri": "https://localhost:8080/"
        },
        "id": "679a51af",
        "outputId": "01ebaabb-2d13-418e-d77c-24d08052f0d7"
      },
      "outputs": [
        {
          "name": "stdout",
          "output_type": "stream",
          "text": [
            "ingrese la aproximación inicial1\n",
            "Ingrese el número máximo de iteraciones: 100\n"
          ]
        }
      ],
      "source": [
        "#guarda valores iniciales del error y del número de iteraciones\n",
        "\n",
        "#definimos en donde será evaluada la función\n",
        "g=funcion1\n",
        "\n",
        "#datos que pedimos que el usuario ingrese\n",
        "p0=float(input(\"ingrese la aproximación inicial\"))#se ingresa la aproximación inicial\n",
        "Nom = float(input(\"Ingrese el número máximo de iteraciones: \"))#se ingresa el número maximo de iteraciones\n",
        "\n",
        "#valores que nosotros colocamos\n",
        "tol = 10**(-2) #tolerancia\n",
        "error = 100 #\n",
        "niter = 0 #contador de iteraciones (i)"
      ]
    },
    {
      "cell_type": "code",
      "execution_count": 36,
      "id": "6b4c08a0",
      "metadata": {
        "colab": {
          "base_uri": "https://localhost:8080/"
        },
        "id": "6b4c08a0",
        "outputId": "f43b421d-d6ee-44b4-a8fe-e4a451558802"
      },
      "outputs": [
        {
          "output_type": "stream",
          "name": "stdout",
          "text": [
            "# iter\t\t p\t\t g(p)\t\t error\n",
            "7 \t\t 0.6634+0.5673j \t 0.6646+0.5622j \t 0.0052\n",
            "7 \t\t 0.663360+0.567258j \t 0.664596+0.562204j \t 0.005202\n",
            "Convergencia alcanzada en la iteración 7.\n",
            "La raíz de la función dada es 0.664596+0.562204j\n",
            "con un error de:0.005202\n"
          ]
        }
      ],
      "source": [
        "# comenzamos a aplicar el método de punto fijo\n",
        "\n",
        "#evaluamos la función con p0\n",
        "p= g(p0)\n",
        "\n",
        "#estructura de la tabla\n",
        "print(\"# iter\\t\\t p\\t\\t g(p)\\t\\t error\")\n",
        "print(\"{0} \\t\\t {1:6.4f} \\t {2:6.4f} \\t {3:6.4f}\".format(niter, p0, p, error))\n",
        "\n",
        "#realizamos el ciclo de iteraciones\n",
        "#expresamos la condición en dónde si i(numero de iteraciones)<=No(número máximo de iteraciones)\n",
        "while niter<=Nom: #ciclo iterativo\n",
        "    p= g(p0) #aquí se calcula nuevamente p para las proximas iteraciones\n",
        "    error=abs(p-p0)#calculamos el error de la iteración\n",
        "\n",
        "#imprime los valores arrojados\n",
        "    print(\"{0} \\t\\t {1:6.6f} \\t {2:6.6f} \\t {3:6.6f}\".format(niter, p0, p, error))\n",
        "\n",
        "#ponemos una condición en dónde si el error es menor que la tolerancia, el procedimiento será exitoso\n",
        "    if error < tol:\n",
        "        print(f\"Convergencia alcanzada en la iteración {niter}.\")\n",
        "        break  # Salimos del bucle si se alcanza la tolerancia\n",
        "\n",
        "    p0=p #damos el nuevo valor a p0 que seria p, esto es para la sig. iteración\n",
        "    niter += 1 #aumenta el numero del contador de iteraciones\n",
        "\n",
        "    if niter>=Nom:\n",
        "        print(\"el procedimiento no fue exitoso, no converge en el número máximo de iteraciones \")\n",
        "\n",
        "\n",
        "print(\"La raíz de la función dada es {0:6.6f}\".format(p))\n",
        "print (\"con un error de:{0:6.6f}\".format(error))"
      ]
    },
    {
      "cell_type": "code",
      "execution_count": null,
      "id": "b59ace03",
      "metadata": {
        "id": "b59ace03"
      },
      "outputs": [],
      "source": []
    }
  ],
  "metadata": {
    "kernelspec": {
      "display_name": "Python 3 (ipykernel)",
      "language": "python",
      "name": "python3"
    },
    "language_info": {
      "codemirror_mode": {
        "name": "ipython",
        "version": 3
      },
      "file_extension": ".py",
      "mimetype": "text/x-python",
      "name": "python",
      "nbconvert_exporter": "python",
      "pygments_lexer": "ipython3",
      "version": "3.7.3"
    },
    "colab": {
      "provenance": [],
      "include_colab_link": true
    }
  },
  "nbformat": 4,
  "nbformat_minor": 5
}