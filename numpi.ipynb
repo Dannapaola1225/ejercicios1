{
  "nbformat": 4,
  "nbformat_minor": 0,
  "metadata": {
    "colab": {
      "provenance": [],
      "authorship_tag": "ABX9TyMGA8CE+nqo7w7F/ohDL93a",
      "include_colab_link": true
    },
    "kernelspec": {
      "name": "python3",
      "display_name": "Python 3"
    },
    "language_info": {
      "name": "python"
    }
  },
  "cells": [
    {
      "cell_type": "markdown",
      "metadata": {
        "id": "view-in-github",
        "colab_type": "text"
      },
      "source": [
        "<a href=\"https://colab.research.google.com/github/Dannapaola1225/ejercicios1/blob/main/numpi.ipynb\" target=\"_parent\"><img src=\"https://colab.research.google.com/assets/colab-badge.svg\" alt=\"Open In Colab\"/></a>"
      ]
    },
    {
      "cell_type": "markdown",
      "source": [
        "librería de Python especializada en el cálculo numérico y el análisis de datos, especialmente para un gran volumen de datos.\n",
        "Incorpora una nueva clase de objetos llamados arrays.\n",
        "arrays  estructura de datos de un mismo tipo organizada en forma de tabla o cuadrícula de distintas dimensiones."
      ],
      "metadata": {
        "id": "p4OLicvQpJwm"
      }
    },
    {
      "cell_type": "code",
      "source": [
        ">>> # Array de una dimensión\n",
        ">>> a1 = np.array([1, 2, 3])\n",
        ">>> print(a1)\n",
        "[1 2 3]\n",
        ">>> # Array de dos dimensiones\n",
        ">>> a2 = np.array([[1, 2, 3], [4, 5, 6]])\n",
        ">>> print(a2)\n",
        "[[1 2 3]\n",
        " [4 5 6]]\n",
        ">>> # Array de tres dimensiones\n",
        ">>> a3 = np.array([[[1, 2, 3], [4, 5, 6]], [[7, 8, 9], [10, 11, 12]]])\n",
        ">>> print(a3)\n",
        "[[[ 1  2  3]\n",
        "  [ 4  5  6]]\n",
        "\n",
        " [[ 7  8  9]\n",
        "  [10 11 12]]]"
      ],
      "metadata": {
        "id": "aqV4uQ1OpPPF"
      },
      "execution_count": null,
      "outputs": []
    },
    {
      "cell_type": "code",
      "source": [],
      "metadata": {
        "id": "8ueJD6mEphaM"
      },
      "execution_count": null,
      "outputs": []
    },
    {
      "cell_type": "markdown",
      "source": [
        "np.empty(dimensiones) : Crea y devuelve una referencia a un array vacío con las dimensiones especificadas en la tupla dimensiones.\n",
        "\n",
        "np.zeros(dimensiones) : Crea y devuelve una referencia a un array con las dimensiones especificadas en la tupla dimensiones cuyos elementos son todos ceros.\n",
        "\n",
        "np.ones(dimensiones) : Crea y devuelve una referencia a un array con las dimensiones especificadas en la tupla dimensiones cuyos elementos son todos unos.\n",
        "\n",
        "np.full(dimensiones, valor) : Crea y devuelve una referencia a un array con las dimensiones especificadas en la tupla dimensiones cuyos elementos son todos valor.\n",
        "\n",
        "np.identity(n) : Crea y devuelve una referencia a la matriz identidad de dimensión n.\n",
        "\n",
        "np.arange(inicio, fin, salto) : Crea y devuelve una referencia a un array de una dimensión cuyos elementos son la secuencia desde inicio hasta fin tomando valores cada salto.\n",
        "\n",
        "np.linspace(inicio, fin, n) : Crea y devuelve una referencia a un array de una dimensión cuyos elementos son la secuencia de n valores equidistantes desde inicio hasta fin.\n",
        "\n",
        "np.random.random(dimensiones) : Crea y devuelve una referencia a un array con las dimensiones especificadas en la tupla dimensiones cuyos elementos son aleatorios.\n",
        "\n",
        ">>> print(np.zeros(3,2))\n",
        "[[0. 0. 0.]\n",
        " [0. 0. 0.]]\n",
        ">>> print(np.idendity(3))\n",
        "[[1. 0. 0.]\n",
        " [0. 1. 0.]\n",
        " [0. 0. 1.]]\n",
        ">>> print(np.arange(1, 10, 2))\n",
        "[1 3 5 7 9]\n",
        ">>> print(np.linspace(0, 10, 5))\n",
        "[ 0.   2.5  5.   7.5 10. ]\n",
        "Atributos de un array\n",
        "Existen varios atributos y funciones que describen las características de un array.\n",
        "\n",
        "a.ndim : Devuelve el número de dimensiones del array a.\n",
        "\n",
        "a.shape : Devuelve una tupla con las dimensiones del array a.\n",
        "\n",
        "a.size : Devuelve el número de elementos del array a.\n",
        "\n",
        "a.dtype: Devuelve el tipo de datos de los elementos del array a.\n",
        "\n",
        "Acceso a los elementos de un array\n",
        "Para acceder a los elementos contenidos en un array se usan índices al igual que para acceder a los elementos de una lista, pero indicando los índices de cada dimensión separados por comas.\n",
        "\n",
        "Al igual que para listas, los índices de cada dimensión comienzan en 0.\n",
        "\n",
        "También es posible obtener subarrays con el operador dos puntos : indicando el índice inicial y el siguiente al final para cada dimensión, de nuevo separados por comas.\n",
        "\n",
        ">>> a = np.array([[1, 2, 3], [4, 5, 6]])\n",
        ">>> print(a[1, 0])  # Acceso al elemento de la fila 1 columna 0\n",
        "4\n",
        ">>> print(a[1][0])  # Otra forma de acceder al mismo elemento\n",
        "4\n",
        ">>> print(a[:, 0:2])\n",
        "[[1 2]\n",
        " [4 5]]"
      ],
      "metadata": {
        "id": "SF3ldjkfpzgi"
      }
    }
  ]
}