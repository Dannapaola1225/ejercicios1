{
  "nbformat": 4,
  "nbformat_minor": 0,
  "metadata": {
    "colab": {
      "provenance": [],
      "authorship_tag": "ABX9TyMFJdF1KwBt3WYkEYm0JA1E",
      "include_colab_link": true
    },
    "kernelspec": {
      "name": "python3",
      "display_name": "Python 3"
    },
    "language_info": {
      "name": "python"
    }
  },
  "cells": [
    {
      "cell_type": "markdown",
      "metadata": {
        "id": "view-in-github",
        "colab_type": "text"
      },
      "source": [
        "<a href=\"https://colab.research.google.com/github/Dannapaola1225/ejercicios1/blob/main/Untitled12.ipynb\" target=\"_parent\"><img src=\"https://colab.research.google.com/assets/colab-badge.svg\" alt=\"Open In Colab\"/></a>"
      ]
    },
    {
      "cell_type": "markdown",
      "source": [
        "# ***Método de Müller***\n",
        "\n"
      ],
      "metadata": {
        "id": "lOgXCuF9cpeU"
      }
    },
    {
      "cell_type": "markdown",
      "source": [
        "para este método, se hace uso del polinomio f(x)=$x^{4}-3x^{3}+x^{2}+x+x$ .\n",
        "\n",
        "Este método hace aproximaciones de raices complejas de un polinomio. su comportamiento es similar al del métodio de la secante con la diferencia de que en el de la secante, se hace usos de una recta que pasa por dos puntos en la curva para aproximar la raíz,  mientras que een el método de Müller empleamos una parábola tomando en cuenta tres puntos en la curva para la aproximación."
      ],
      "metadata": {
        "id": "jaQMSBpLc9aB"
      }
    },
    {
      "cell_type": "code",
      "execution_count": 28,
      "metadata": {
        "id": "3InDzaVvS8ac"
      },
      "outputs": [],
      "source": [
        "from math import * #libreria para operaciones matemáticas\n",
        "import numpy as np\n",
        "import matplotlib . pyplot as plt # libreria para graficar"
      ]
    },
    {
      "cell_type": "markdown",
      "source": [
        "Identificamos la función f(x)"
      ],
      "metadata": {
        "id": "_lrJYzHQeM11"
      }
    },
    {
      "cell_type": "code",
      "source": [
        "#colocamos la función dada\n",
        "def f(x):\n",
        "    return x**4-3*x**3+x**2+x+1\n",
        "def p(x):\n",
        "    return a*(x-x2)**2+b*(x-x2)+c"
      ],
      "metadata": {
        "id": "jnTdl5yjO3oU"
      },
      "execution_count": 36,
      "outputs": []
    },
    {
      "cell_type": "markdown",
      "source": [],
      "metadata": {
        "id": "EgaqVc2qf6Io"
      }
    },
    {
      "cell_type": "markdown",
      "source": [
        "colocamos los valores iniciales, indispensables para calcular las raices por este método\n",
        "\n"
      ],
      "metadata": {
        "id": "njCMM8Ozf4wH"
      }
    },
    {
      "cell_type": "code",
      "source": [
        "#valores iniciales\n",
        "x0= 0.5 #primer aproximación inicial\n",
        "x1= -0.5 #segunda aroximación inicial\n",
        "x2= 0 #tercer aproximación inicial\n",
        "Tol= 10**(-5) #tolerancia de 0.00001\n",
        "Nom= 100 #número maximo de iteraciones\n",
        "niter = 3 #contador de iteraciones (i)"
      ],
      "metadata": {
        "id": "s5DRgYtSaZ4K"
      },
      "execution_count": 30,
      "outputs": []
    },
    {
      "cell_type": "code",
      "source": [
        "print(\"Método de Muller\")\n",
        "print(\"-------------------------------------------------------------------------\")\n",
        "print(\"     p0=\",x0,\"     p1=\",x1,\"     p2=\",x2)\n",
        "print(\"-------------------------------------------------------------------------\")\n",
        "\n",
        " #estructura de la tabla\n",
        "print(\"# iter\\t\\t X3 \\t\\t p(X3) \\t\\t error\")\n",
        "print(\"-------------------------------------------------------------------------\")\n",
        "\n",
        " # Calculamos los siguientes valores para encontrar a, b y c\n",
        "x=x\n",
        "h1= x1-x0\n",
        "h2= x2-x1\n",
        "δ1= (f(x1)-f(x0))/h1\n",
        "δ2= (f(x2)-f(x1))/h2\n",
        "#calculamos a, b y c\n",
        "a= (δ2-δ1)/(h1+h2)\n",
        "b= (h1*δ2+h2*δ1)/(h1+h2)\n",
        "print(\"Método de Muller\")\n",
        "print(\"-------------------------------------------------------------------------\")\n",
        "print(\"     p0=\",x0,\"     p1=\",x1,\"     p2=\",x2)\n",
        "print(\"-------------------------------------------------------------------------\")\n",
        "\n",
        " #estructura de la tabla\n",
        "print(\"# iter\\t\\t X3 \\t\\t p(X3) \\t\\t error\")\n",
        "print(\"-------------------------------------------------------------------------\")\n",
        "\n",
        " # Calculamos los siguientes valores para encontrar a, b y c\n",
        "x=x\n",
        "h1= x1-x0\n",
        "h2= x2-x1\n",
        "δ1= (f(x1)-f(x0))/h1\n",
        "δ2= (f(x2)-f(x1))/h2\n",
        "#calculamos a, b y c\n",
        "a= (δ2-δ1)/(h1+h2)\n",
        "b= (h1*δ2+h2*δ1)/(h1+h2)\n",
        "c= f(x2)\n",
        "#definimos la formúla\n",
        "p(x)=a(x-x2)**2+b(x-x2)+c\n",
        "x3= x2+(2*c/(b+np.sign(b)*np.sqrt(b**2-4*a*c)))\n",
        "\n",
        "error=abs(x3-x2)\n",
        "error=abs(x3-x2)\n"
      ],
      "metadata": {
        "colab": {
          "base_uri": "https://localhost:8080/",
          "height": 506
        },
        "id": "GIGmwFKccaa1",
        "outputId": "3c87f6c7-c66c-499f-d911-28de445d2fe6"
      },
      "execution_count": 38,
      "outputs": [
        {
          "output_type": "stream",
          "name": "stdout",
          "text": [
            "Método de Muller\n",
            "-------------------------------------------------------------------------\n",
            "     p0= 0.5      p1= -0.5      p2= 0\n",
            "-------------------------------------------------------------------------\n",
            "# iter\t\t X3 \t\t p(X3) \t\t error\n",
            "-------------------------------------------------------------------------\n",
            "Método de Muller\n",
            "-------------------------------------------------------------------------\n",
            "     p0= 0.5      p1= -0.5      p2= 0\n",
            "-------------------------------------------------------------------------\n",
            "# iter\t\t X3 \t\t p(X3) \t\t error\n",
            "-------------------------------------------------------------------------\n"
          ]
        },
        {
          "output_type": "error",
          "ename": "TypeError",
          "evalue": "unsupported operand type(s) for -: 'list' and 'int'",
          "traceback": [
            "\u001b[0;31m---------------------------------------------------------------------------\u001b[0m",
            "\u001b[0;31mTypeError\u001b[0m                                 Traceback (most recent call last)",
            "\u001b[0;32m<ipython-input-38-983380fe1910>\u001b[0m in \u001b[0;36m<cell line: 39>\u001b[0;34m()\u001b[0m\n\u001b[1;32m     37\u001b[0m \u001b[0mc\u001b[0m\u001b[0;34m=\u001b[0m \u001b[0mf\u001b[0m\u001b[0;34m(\u001b[0m\u001b[0mx2\u001b[0m\u001b[0;34m)\u001b[0m\u001b[0;34m\u001b[0m\u001b[0;34m\u001b[0m\u001b[0m\n\u001b[1;32m     38\u001b[0m \u001b[0;31m#definimos la formúla\u001b[0m\u001b[0;34m\u001b[0m\u001b[0;34m\u001b[0m\u001b[0m\n\u001b[0;32m---> 39\u001b[0;31m \u001b[0mp\u001b[0m\u001b[0;34m(\u001b[0m\u001b[0mx\u001b[0m\u001b[0;34m)\u001b[0m\u001b[0;34m==\u001b[0m\u001b[0ma\u001b[0m\u001b[0;34m(\u001b[0m\u001b[0mx\u001b[0m\u001b[0;34m-\u001b[0m\u001b[0mx2\u001b[0m\u001b[0;34m)\u001b[0m\u001b[0;34m**\u001b[0m\u001b[0;36m2\u001b[0m\u001b[0;34m+\u001b[0m\u001b[0mb\u001b[0m\u001b[0;34m(\u001b[0m\u001b[0mx\u001b[0m\u001b[0;34m-\u001b[0m\u001b[0mx2\u001b[0m\u001b[0;34m)\u001b[0m\u001b[0;34m+\u001b[0m\u001b[0mc\u001b[0m\u001b[0;34m\u001b[0m\u001b[0;34m\u001b[0m\u001b[0m\n\u001b[0m\u001b[1;32m     40\u001b[0m \u001b[0mx3\u001b[0m\u001b[0;34m=\u001b[0m \u001b[0mx2\u001b[0m\u001b[0;34m+\u001b[0m\u001b[0;34m(\u001b[0m\u001b[0;36m2\u001b[0m\u001b[0;34m*\u001b[0m\u001b[0mc\u001b[0m\u001b[0;34m/\u001b[0m\u001b[0;34m(\u001b[0m\u001b[0mb\u001b[0m\u001b[0;34m+\u001b[0m\u001b[0mnp\u001b[0m\u001b[0;34m.\u001b[0m\u001b[0msign\u001b[0m\u001b[0;34m(\u001b[0m\u001b[0mb\u001b[0m\u001b[0;34m)\u001b[0m\u001b[0;34m*\u001b[0m\u001b[0mnp\u001b[0m\u001b[0;34m.\u001b[0m\u001b[0msqrt\u001b[0m\u001b[0;34m(\u001b[0m\u001b[0mb\u001b[0m\u001b[0;34m**\u001b[0m\u001b[0;36m2\u001b[0m\u001b[0;34m-\u001b[0m\u001b[0;36m4\u001b[0m\u001b[0;34m*\u001b[0m\u001b[0ma\u001b[0m\u001b[0;34m*\u001b[0m\u001b[0mc\u001b[0m\u001b[0;34m)\u001b[0m\u001b[0;34m)\u001b[0m\u001b[0;34m)\u001b[0m\u001b[0;34m\u001b[0m\u001b[0;34m\u001b[0m\u001b[0m\n\u001b[1;32m     41\u001b[0m \u001b[0;34m\u001b[0m\u001b[0m\n",
            "\u001b[0;32m<ipython-input-36-2bf1144cbbf3>\u001b[0m in \u001b[0;36mp\u001b[0;34m(x)\u001b[0m\n\u001b[1;32m      3\u001b[0m     \u001b[0;32mreturn\u001b[0m \u001b[0mx\u001b[0m\u001b[0;34m**\u001b[0m\u001b[0;36m4\u001b[0m\u001b[0;34m-\u001b[0m\u001b[0;36m3\u001b[0m\u001b[0;34m*\u001b[0m\u001b[0mx\u001b[0m\u001b[0;34m**\u001b[0m\u001b[0;36m3\u001b[0m\u001b[0;34m+\u001b[0m\u001b[0mx\u001b[0m\u001b[0;34m**\u001b[0m\u001b[0;36m2\u001b[0m\u001b[0;34m+\u001b[0m\u001b[0mx\u001b[0m\u001b[0;34m+\u001b[0m\u001b[0;36m1\u001b[0m\u001b[0;34m\u001b[0m\u001b[0;34m\u001b[0m\u001b[0m\n\u001b[1;32m      4\u001b[0m \u001b[0;32mdef\u001b[0m \u001b[0mp\u001b[0m\u001b[0;34m(\u001b[0m\u001b[0mx\u001b[0m\u001b[0;34m)\u001b[0m\u001b[0;34m:\u001b[0m\u001b[0;34m\u001b[0m\u001b[0;34m\u001b[0m\u001b[0m\n\u001b[0;32m----> 5\u001b[0;31m     \u001b[0;32mreturn\u001b[0m \u001b[0ma\u001b[0m\u001b[0;34m*\u001b[0m\u001b[0;34m(\u001b[0m\u001b[0mx\u001b[0m\u001b[0;34m-\u001b[0m\u001b[0mx2\u001b[0m\u001b[0;34m)\u001b[0m\u001b[0;34m**\u001b[0m\u001b[0;36m2\u001b[0m\u001b[0;34m+\u001b[0m\u001b[0mb\u001b[0m\u001b[0;34m*\u001b[0m\u001b[0;34m(\u001b[0m\u001b[0mx\u001b[0m\u001b[0;34m-\u001b[0m\u001b[0mx2\u001b[0m\u001b[0;34m)\u001b[0m\u001b[0;34m+\u001b[0m\u001b[0mc\u001b[0m\u001b[0;34m\u001b[0m\u001b[0;34m\u001b[0m\u001b[0m\n\u001b[0m",
            "\u001b[0;31mTypeError\u001b[0m: unsupported operand type(s) for -: 'list' and 'int'"
          ]
        }
      ]
    },
    {
      "cell_type": "markdown",
      "source": [
        "En este apartado, se realiza la gráfica en dónde es posible visualizar el comportamiento de la función dada"
      ],
      "metadata": {
        "id": "VgySIMXRd280"
      }
    },
    {
      "cell_type": "code",
      "source": [
        "# Generar valores para x\n",
        "x = np.linspace(-10, 10, 200)\n",
        "\n",
        "# Crear la gráfica\n",
        "plt.plot(x, f(x), color=\"purple\", label='f(x) = $x^{4}-3x^{3}+x^{2}+x+1$')  # Gráfica de f(x)\n",
        "\n",
        "plt.axhline(0, color=\"black\")\n",
        "plt.axvline(0, color=\"black\")\n",
        "plt.title('Gráfica de la función f(x) ')#titulo de la gráfica\n",
        "plt.legend()#imprime leyenda\n",
        "plt.grid(color=\"pink\")#imprime cuadricula color rosa\n",
        "plt.xlabel('Eje X')# enunciado del eje x\n",
        "plt.ylabel('Eje Y')# enunciado del eje y\n",
        "# Coordenadas de la raiz de f(x)\n",
        "x = [0]\n",
        "y = [0]\n",
        "#anotacion de donde se encuentra la raiz\n",
        "#plt.annotate('Raiz de la función', xy=(-1.738956, 0), xytext=(2, 2.6),\n",
        "#             arrowprops=dict(facecolor='red', shrink=-1.55))\n",
        "#plt.scatter(x, y, color='red')\n",
        "plt.xlim(-10, 10)\n",
        "plt.ylim(-5, 10)\n",
        "#muestra la gráfica\n",
        "plt.show()"
      ],
      "metadata": {
        "colab": {
          "base_uri": "https://localhost:8080/",
          "height": 472
        },
        "id": "aQ35gcUxZNlz",
        "outputId": "ec19f2fb-6d88-4c18-c53d-ffa45774ceb5"
      },
      "execution_count": 10,
      "outputs": [
        {
          "output_type": "display_data",
          "data": {
            "text/plain": [
              "<Figure size 640x480 with 1 Axes>"
            ],
            "image/png": "[encoded data removed]"
          },
          "metadata": {}
        }
      ]
    },
    {
      "cell_type": "markdown",
      "source": [],
      "metadata": {
        "id": "5ugwfZXlcod3"
      }
    }
  ]
}