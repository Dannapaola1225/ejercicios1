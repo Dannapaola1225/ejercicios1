{
  "nbformat": 4,
  "nbformat_minor": 0,
  "metadata": {
    "colab": {
      "provenance": [],
      "authorship_tag": "ABX9TyPmpoPXS0Vc9fc730ecl+GU",
      "include_colab_link": true
    },
    "kernelspec": {
      "name": "python3",
      "display_name": "Python 3"
    },
    "language_info": {
      "name": "python"
    }
  },
  "cells": [
    {
      "cell_type": "markdown",
      "metadata": {
        "id": "view-in-github",
        "colab_type": "text"
      },
      "source": [
        "<a href=\"https://colab.research.google.com/github/Dannapaola1225/ejercicios1/blob/main/Untitled23.ipynb\" target=\"_parent\"><img src=\"https://colab.research.google.com/assets/colab-badge.svg\" alt=\"Open In Colab\"/></a>"
      ]
    },
    {
      "cell_type": "code",
      "execution_count": 19,
      "metadata": {
        "id": "39Uw01fdNT6Y"
      },
      "outputs": [],
      "source": [
        "import numpy as np #librerias a emplear\n",
        "import sympy as sp"
      ]
    },
    {
      "cell_type": "code",
      "source": [
        "xi=[1.3, 1.6, 1.9]\n",
        "fx=[0.6200860, 0.4554022, 0.2818186]\n",
        "dfx=[-0.5220232, -0.5698959, -0.5811571]\n",
        "x=1.5"
      ],
      "metadata": {
        "id": "H2so4vdPNdcZ"
      },
      "execution_count": 20,
      "outputs": []
    },
    {
      "cell_type": "code",
      "source": [
        "def Hermite(xi, fi, dfi, x):\n",
        "    n = len(xi)\n",
        "    z = np.zeros(2 * n)  # Nodos duplicados\n",
        "    Q = np.zeros((2 * n, 2 * n))  # Tabla de coeficientes del metodo de dif divididas\n",
        "    Q = np.round(Q, 7)\n",
        "    # Paso 1 y Paso 2: Inicializar nodos y primera columna de Q\n",
        "    for i in range(n):\n",
        "        z[2 * i] = xi[i]\n",
        "        z[2 * i + 1] = xi[i]\n",
        "        Q[2 * i][0] = fi[i]\n",
        "        Q[2 * i + 1][0] = fi[i]\n",
        "        Q[2 * i + 1][1] = dfi[i]\n",
        "\n",
        "        # Paso 3: Calcular Q para las diferencias divididas entre nodos duplicados\n",
        "        if i != 0:\n",
        "            Q[2 * i][1] = (Q[2 * i][0] - Q[2 * i - 1][0]) / (z[2 * i] - z[2 * i - 1])\n",
        "\n",
        "    # Paso 4: Calcular el resto de la tabla (diferencias divididas superiores)\n",
        "    for i in range(2, 2 * n):  # Recorrer columnas\n",
        "        for j in range(i, 2 * n):  # Recorrer filas desde la diagonal principal\n",
        "            Q[j][i] = (Q[j][i - 1] - Q[j - 1][i - 1]) / (z[j] - z[j - i])\n",
        "\n",
        "    return Q, z\n",
        "\n",
        "# Llamar a la función Hermite para la tabla\n",
        "Q, z = Hermite(xi, fx, dfx, x)\n",
        "#Realizamos el polinomio  de Hermite con respecto a a tabla obtenida\n",
        "    # Coeficientes del polinomio de Hermite\n",
        "n = len(xi)\n",
        "coeficientes = [Q[i][i] for i in range(2 * n)]\n",
        "\n",
        "    # Construir el polinomio de Hermite\n",
        "polinomio = f\"{coeficientes[0]}\"\n",
        "for i in range(1, 2 * n):\n",
        "        term = f\"{coeficientes[i]}\"\n",
        "        for j in range(i):\n",
        "            term += f\"*(x - {z[j]})\"\n",
        "        polinomio += \" + \" + term\n",
        "\n",
        "    # Calcular el valor del polinomio en x\n",
        "valor_polinomio = coeficientes[0]\n",
        "for i in range(1, 2 * n):\n",
        "        term_value = coeficientes[i]\n",
        "        for j in range(i):\n",
        "            term_value *= (x - z[j])\n",
        "        valor_polinomio += term_value\n",
        "\n",
        "# Muestra la tabla\n",
        "print(\"Nodos duplicados (Z):\")\n",
        "print(z)\n",
        "print(\"\\nTabla de diferencias divididas (Q):\")\n",
        "print(Q)\n",
        "print(f\"H(x) = {polinomio}\")\n",
        "\n"
      ],
      "metadata": {
        "colab": {
          "base_uri": "https://localhost:8080/"
        },
        "id": "glbNPAJoRXKg",
        "outputId": "aea0be8a-d9b8-4bb1-d676-a8b4c014bb01"
      },
      "execution_count": 36,
      "outputs": [
        {
          "output_type": "stream",
          "name": "stdout",
          "text": [
            "Nodos duplicados (Z):\n",
            "[1.3 1.3 1.6 1.6 1.9 1.9]\n",
            "\n",
            "Tabla de diferencias divididas (Q):\n",
            "[[ 0.620086    0.          0.          0.          0.          0.        ]\n",
            " [ 0.620086   -0.5220232   0.          0.          0.          0.        ]\n",
            " [ 0.4554022  -0.548946   -0.08974267  0.          0.          0.        ]\n",
            " [ 0.4554022  -0.5698959  -0.069833    0.06636556  0.          0.        ]\n",
            " [ 0.2818186  -0.578612   -0.02905367  0.06796556  0.00266667  0.        ]\n",
            " [ 0.2818186  -0.5811571  -0.00848367  0.06856667  0.00100185 -0.00277469]]\n",
            "H(x) = 0.620086 + -0.5220232*(x - 1.3) + -0.08974266666666673*(x - 1.3)*(x - 1.3) + 0.06636555555555616*(x - 1.3)*(x - 1.3)*(x - 1.6) + 0.002666666666662164*(x - 1.3)*(x - 1.3)*(x - 1.6)*(x - 1.6) + -0.0027746913579894407*(x - 1.3)*(x - 1.3)*(x - 1.6)*(x - 1.6)*(x - 1.9)\n"
          ]
        }
      ]
    }
  ]
}