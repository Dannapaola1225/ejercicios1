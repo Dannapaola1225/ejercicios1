{
  "nbformat": 4,
  "nbformat_minor": 0,
  "metadata": {
    "colab": {
      "provenance": [],
      "authorship_tag": "ABX9TyPPlIMv0+RE+c61qvRRaL5p",
      "include_colab_link": true
    },
    "kernelspec": {
      "name": "python3",
      "display_name": "Python 3"
    },
    "language_info": {
      "name": "python"
    }
  },
  "cells": [
    {
      "cell_type": "markdown",
      "metadata": {
        "id": "view-in-github",
        "colab_type": "text"
      },
      "source": [
        "<a href=\"https://colab.research.google.com/github/Dannapaola1225/ejercicios1/blob/main/polinomio_interpolante_Mewton.ipynb\" target=\"_parent\"><img src=\"https://colab.research.google.com/assets/colab-badge.svg\" alt=\"Open In Colab\"/></a>"
      ]
    },
    {
      "cell_type": "code",
      "execution_count": 7,
      "metadata": {
        "id": "vPAQkm4Z54BG"
      },
      "outputs": [],
      "source": [
        "#declaramos librerias a emplear\n",
        "import numpy as np\n",
        "import matplotlib.pyplot as plt\n",
        "import sympy as syp\n",
        "import scipy.special as spc\n",
        "from math import *"
      ]
    },
    {
      "cell_type": "code",
      "source": [
        "def f(x):\n",
        "    return -5+7*x-2*x**2+x**3"
      ],
      "metadata": {
        "id": "hYAuqWbW9AFa"
      },
      "execution_count": 8,
      "outputs": []
    },
    {
      "cell_type": "code",
      "source": [
        "#formamos los arreglos\n",
        "F =np.array([-5, 1, 9, 25, 55, 105])\n",
        "X=np.array([0, 1, 2, 3, 4, 5,])"
      ],
      "metadata": {
        "id": "tc5_cSm06KUV"
      },
      "execution_count": 9,
      "outputs": []
    },
    {
      "cell_type": "code",
      "source": [
        "plt.scatter(X, F, marker= 'x', color=\"purple\") # se grafican los datos de F con respecto a X\n",
        "# Graficacion del polinomio y datos de la tabla\n",
        "x1=np.linspace(0,5,1000) # se crea el rango del grafico\n",
        "plt.grid(color=\"Black\", linestyle= \"--\") # cuadricula\n",
        "plt.plot(x1,f(x1), color=\"green\") # se grafica el polinomio\n",
        "plt.annotate('(0,-5)', (0, -5)) # punto 1\n",
        "plt.annotate('(1,1)', (1, 1)) # punto 2\n",
        "plt.annotate('(2,9)', (2, 9)) # punto 3\n",
        "plt.annotate('(3,25)', (3, 25)) # punto 4\n",
        "plt.annotate('(4,55)', (4, 55)) # punto 5\n",
        "plt.annotate('(5,105)', (5, 105)) # punto 6\n",
        "plt.xlabel(\"x\") # rotulo\n",
        "plt.ylabel(\"f(x)\") # rotulo\n",
        "plt.show # se muestra la grafica"
      ],
      "metadata": {
        "colab": {
          "base_uri": "https://localhost:8080/",
          "height": 619
        },
        "id": "z8xaZG7r7mFf",
        "outputId": "2b2b1315-625e-4d6b-802d-5673df03662d"
      },
      "execution_count": 16,
      "outputs": [
        {
          "output_type": "execute_result",
          "data": {
            "text/plain": [
              "<function matplotlib.pyplot.show(close=None, block=None)>"
            ],
            "text/html": [
              "<div style=\"max-width:800px; border: 1px solid var(--colab-border-color);\"><style>\n",
              "      pre.function-repr-contents {\n",
              "        overflow-x: auto;\n",
              "        padding: 8px 12px;\n",
              "        max-height: 500px;\n",
              "      }\n",
              "\n",
              "      pre.function-repr-contents.function-repr-contents-collapsed {\n",
              "        cursor: pointer;\n",
              "        max-height: 100px;\n",
              "      }\n",
              "    </style>\n",
              "    <pre style=\"white-space: initial; background:\n",
              "         var(--colab-secondary-surface-color); padding: 8px 12px;\n",
              "         border-bottom: 1px solid var(--colab-border-color);\"><b>matplotlib.pyplot.show</b><br/>def show(*args, **kwargs)</pre><pre class=\"function-repr-contents function-repr-contents-collapsed\" style=\"\"><a class=\"filepath\" style=\"display:none\" href=\"#\">/usr/local/lib/python3.10/dist-packages/matplotlib/pyplot.py</a>Display all open figures.\n",
              "\n",
              "Parameters\n",
              "----------\n",
              "block : bool, optional\n",
              "    Whether to wait for all figures to be closed before returning.\n",
              "\n",
              "    If `True` block and run the GUI main loop until all figure windows\n",
              "    are closed.\n",
              "\n",
              "    If `False` ensure that all figure windows are displayed and return\n",
              "    immediately.  In this case, you are responsible for ensuring\n",
              "    that the event loop is running to have responsive figures.\n",
              "\n",
              "    Defaults to True in non-interactive mode and to False in interactive\n",
              "    mode (see `.pyplot.isinteractive`).\n",
              "\n",
              "See Also\n",
              "--------\n",
              "ion : Enable interactive mode, which shows / updates the figure after\n",
              "      every plotting command, so that calling ``show()`` is not necessary.\n",
              "ioff : Disable interactive mode.\n",
              "savefig : Save the figure to an image file instead of showing it on screen.\n",
              "\n",
              "Notes\n",
              "-----\n",
              "**Saving figures to file and showing a window at the same time**\n",
              "\n",
              "If you want an image file as well as a user interface window, use\n",
              "`.pyplot.savefig` before `.pyplot.show`. At the end of (a blocking)\n",
              "``show()`` the figure is closed and thus unregistered from pyplot. Calling\n",
              "`.pyplot.savefig` afterwards would save a new and thus empty figure. This\n",
              "limitation of command order does not apply if the show is non-blocking or\n",
              "if you keep a reference to the figure and use `.Figure.savefig`.\n",
              "\n",
              "**Auto-show in jupyter notebooks**\n",
              "\n",
              "The jupyter backends (activated via ``%matplotlib inline``,\n",
              "``%matplotlib notebook``, or ``%matplotlib widget``), call ``show()`` at\n",
              "the end of every cell by default. Thus, you usually don&#x27;t have to call it\n",
              "explicitly there.</pre>\n",
              "      <script>\n",
              "      if (google.colab.kernel.accessAllowed && google.colab.files && google.colab.files.view) {\n",
              "        for (const element of document.querySelectorAll('.filepath')) {\n",
              "          element.style.display = 'block'\n",
              "          element.onclick = (event) => {\n",
              "            event.preventDefault();\n",
              "            event.stopPropagation();\n",
              "            google.colab.files.view(element.textContent, 482);\n",
              "          };\n",
              "        }\n",
              "      }\n",
              "      for (const element of document.querySelectorAll('.function-repr-contents')) {\n",
              "        element.onclick = (event) => {\n",
              "          event.preventDefault();\n",
              "          event.stopPropagation();\n",
              "          element.classList.toggle('function-repr-contents-collapsed');\n",
              "        };\n",
              "      }\n",
              "      </script>\n",
              "      </div>"
            ]
          },
          "metadata": {},
          "execution_count": 16
        },
        {
          "output_type": "display_data",
          "data": {
            "text/plain": [
              "<Figure size 640x480 with 1 Axes>"
            ],
            "image/png": "[encoded data removed]"
          },
          "metadata": {}
        }
      ]
    },
    {
      "cell_type": "code",
      "source": [
        "print(f\"X: {X}\")\n",
        "print(f\"F: {F}\")\n",
        "D1 = np.diff(F) # primeras diferencias\n",
        "print(f\"Δ1: {D1}\")\n",
        "diferencias = [D1]\n",
        "\n",
        "# diferencias sucesivas.\n",
        "\n",
        "i = 2  # Contador para los arreglos D2, D3, etc.\n",
        "DifI = D1\n",
        "\n",
        "while True:\n",
        "# Calcula la siguiente diferencia\n",
        "    DifA = np.diff(DifI)  # se calculan las diferencias sucesivas\n",
        "    diferencias.append(DifA)\n",
        "    print(f\"Δ{i}: {DifA}\")\n",
        "\n",
        "# Verifica si todos los elementos del arreglo actual son iguales\n",
        "    if np.all(DifA == DifA[0]):  # se verifica si todos los elementos son iguales\n",
        "        break\n",
        "\n",
        "# Si no todos los elementos son iguales, actualiza el arreglo para la siguiente iteración\n",
        "    DifI= DifA  # se actualiza el arreglo para la siguiente iteración\n",
        "    i += 1  # se aumenta el contador para el siguiente arreglo\n",
        "\n",
        "print(\"\\nArreglos  generados:\")\n",
        "for idx, arr in enumerate(diferencias, start=1):\n",
        "    print(f\"Δ{idx}: {arr}\")"
      ],
      "metadata": {
        "colab": {
          "base_uri": "https://localhost:8080/"
        },
        "id": "P7HqSJiF-5nh",
        "outputId": "633a5286-ad17-4ea7-c38a-f1a477177cd7"
      },
      "execution_count": 18,
      "outputs": [
        {
          "output_type": "stream",
          "name": "stdout",
          "text": [
            "X: [0 1 2 3 4 5]\n",
            "F: [ -5   1   9  25  55 105]\n",
            "Δ1: [ 6  8 16 30 50]\n",
            "Δ2: [ 2  8 14 20]\n",
            "Δ3: [6 6 6]\n",
            "\n",
            "Arreglos  generados:\n",
            "Δ1: [ 6  8 16 30 50]\n",
            "Δ2: [ 2  8 14 20]\n",
            "Δ3: [6 6 6]\n"
          ]
        }
      ]
    },
    {
      "cell_type": "code",
      "source": [
        "def dif_d(x, F):\n",
        "    n = len(x)\n",
        "    # Crear una matriz\n",
        "    t = np.zeros((n, n))\n",
        "    t[:, 0] = F  # Colocar los valores de F(x) en la primera columna\n",
        "\n",
        "    # Calcular las diferencias divididas\n",
        "    for j in range(1, n):\n",
        "        for i in range(n - j):\n",
        "            t[i, j] = (t[i + 1, j - 1] - t[i, j - 1]) / (x[i + j] - x[i])\n",
        "\n",
        "    return t\n",
        "\n",
        "# Evaluación del polinomio de Newton en un valor x dado\n",
        "def polinomio_newton(x_dado, x, t):\n",
        "    n = len(x)\n",
        "    resultado = t[0, 0]\n",
        "    producto = 1\n",
        "    for i in range(1, n):\n",
        "        producto *= (x_dado - x[i - 1])\n",
        "        resultado += t[0, i] * producto\n",
        "    return resultado\n",
        "#diferencias divididas\n",
        "tabla = dif_d(X, F)\n",
        "xi= 3\n",
        "r= polinomio_newton(xi, X, tabla)\n",
        "print(f\"El  polinomio de Newton en x = {xi} es: {r}\")"
      ],
      "metadata": {
        "colab": {
          "base_uri": "https://localhost:8080/"
        },
        "id": "jJUBRA6qAIP5",
        "outputId": "5a63ad79-4c24-43c0-f5e8-3459a6a86c26"
      },
      "execution_count": 28,
      "outputs": [
        {
          "output_type": "stream",
          "name": "stdout",
          "text": [
            "El  polinomio de Newton en x = 3 es: 25.0\n"
          ]
        }
      ]
    }
  ]
}