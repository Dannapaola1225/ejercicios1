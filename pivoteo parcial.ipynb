{
  "nbformat": 4,
  "nbformat_minor": 0,
  "metadata": {
    "colab": {
      "provenance": [],
      "authorship_tag": "ABX9TyMsKMO7yrxbekSNLhmgssz3",
      "include_colab_link": true
    },
    "kernelspec": {
      "name": "python3",
      "display_name": "Python 3"
    },
    "language_info": {
      "name": "python"
    }
  },
  "cells": [
    {
      "cell_type": "markdown",
      "metadata": {
        "id": "view-in-github",
        "colab_type": "text"
      },
      "source": [
        "<a href=\"https://colab.research.google.com/github/Dannapaola1225/ejercicios1/blob/main/pivoteo%20parcial.ipynb\" target=\"_parent\"><img src=\"https://colab.research.google.com/assets/colab-badge.svg\" alt=\"Open In Colab\"/></a>"
      ]
    },
    {
      "cell_type": "markdown",
      "source": [
        "# ***pivoteo parcial***"
      ],
      "metadata": {
        "id": "YK0Hk37PdPKF"
      }
    },
    {
      "cell_type": "code",
      "execution_count": 3,
      "metadata": {
        "colab": {
          "base_uri": "https://localhost:8080/"
        },
        "id": "NUaxtAb-ZgAo",
        "outputId": "2c3d7d24-0ffa-4891-9356-234f5499fd3a"
      },
      "outputs": [
        {
          "output_type": "stream",
          "name": "stdout",
          "text": [
            "Matriz Inicial:\n",
            "[[ 3.000e-03  5.914e+01  5.917e+01]\n",
            " [ 5.291e+00 -6.130e+00  4.678e+01]]\n",
            "\n",
            "Matriz después de la eliminación en la columna 1:\n",
            "[[ 5.291      -6.13       46.78      ]\n",
            " [ 0.         59.14347571 59.14347571]]\n",
            "\n",
            "Matriz después de la eliminación en la columna 2:\n",
            "[[ 5.291      -6.13       46.78      ]\n",
            " [ 0.         59.14347571 59.14347571]]\n",
            "\n",
            "El resultado obtenido es:\n",
            "x1 = 10.00000\n",
            "x2 = 1.00000\n"
          ]
        }
      ],
      "source": [
        "import numpy as np\n",
        "\n",
        "def pivoteo_parcial(A, b):\n",
        "\n",
        "    n = len(A)# filas\n",
        "    A = np.array(A, dtype=float)  # Asegurar cálculos con flotantes\n",
        "    b = np.array(b, dtype=float)  # Asegurar cálculos con flotantes\n",
        "\n",
        "    #imprime la matriz aumentada\n",
        "    print(\"Matriz Inicial:\")\n",
        "    print(np.hstack((A, b.reshape(-1, 1))))\n",
        "\n",
        "    # Iniciamos el proceso de eliminación gaussiana con pivoteo parcial\n",
        "    for i in range(n):\n",
        "        # Determinamos el pivote\n",
        "        p = np.argmax(np.abs(A[i:, i])) + i\n",
        "        if A[p, i] == 0:\n",
        "            raise ValueError(\"El sistema no tiene solución única\")\n",
        "\n",
        "        # Intercambiamos la posición de las filas si es necesario\n",
        "        if i != p:\n",
        "            A[[i, p]] = A[[p, i]]\n",
        "            b[[i, p]] = b[[p, i]]\n",
        "\n",
        "        # Eliminar los elementos por debajo del pivote\n",
        "        for j in range(i + 1, n):\n",
        "            m = A[j, i] / A[i, i]\n",
        "            A[j, i:] -= m * A[i, i:]\n",
        "            b[j] -= m * b[i]\n",
        "\n",
        "        # Imprimimos la matriz después de la eliminación de cada columna\n",
        "        print(f\"\\nMatriz después de la eliminación en la columna {i + 1}:\")\n",
        "        print(np.hstack((A, b.reshape(-1, 1))))\n",
        "\n",
        "    # Realizamos la Sustitución hacia atrás\n",
        "    x = np.zeros(n)\n",
        "    for i in range(n - 1, -1, -1):\n",
        "        x[i] = (b[i] - np.dot(A[i, i + 1:], x[i + 1:])) / A[i, i]\n",
        "\n",
        "    return x\n",
        "\n",
        "if __name__ == \"__main__\":\n",
        "    #matriz de coeficientes y vector independiente dados\n",
        "    A = [\n",
        "        [0.003000, 59.14],\n",
        "        [5.291, -6.130]\n",
        "    ]\n",
        "    b = [59.17, 46.78]\n",
        "\n",
        "    try:\n",
        "        resultado = pivoteo_parcial(A, b)\n",
        "        print(\"\\nEl resultado obtenido es:\")\n",
        "        for i in range(len(resultado)):\n",
        "            print(f\"x{i+1} = {resultado[i]:.5f}\")\n",
        "    except ValueError as e:\n",
        "        print(\"Error:\", e)\n"
      ]
    }
  ]
}