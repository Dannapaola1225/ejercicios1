{
  "nbformat": 4,
  "nbformat_minor": 0,
  "metadata": {
    "colab": {
      "provenance": [],
      "authorship_tag": "ABX9TyOAFQolkIjR+lWrBhQX54tr",
      "include_colab_link": true
    },
    "kernelspec": {
      "name": "python3",
      "display_name": "Python 3"
    },
    "language_info": {
      "name": "python"
    }
  },
  "cells": [
    {
      "cell_type": "markdown",
      "metadata": {
        "id": "view-in-github",
        "colab_type": "text"
      },
      "source": [
        "<a href=\"https://colab.research.google.com/github/Dannapaola1225/ejercicios1/blob/main/Numpi.ipynb\" target=\"_parent\"><img src=\"https://colab.research.google.com/assets/colab-badge.svg\" alt=\"Open In Colab\"/></a>"
      ]
    },
    {
      "cell_type": "markdown",
      "source": [
        "# **Libreria Numpy**\n",
        "*Tutorial*\n"
      ],
      "metadata": {
        "id": "p4OLicvQpJwm"
      }
    },
    {
      "cell_type": "markdown",
      "source": [
        "La libreria **NUMPY** especializa principalmente el la realización de cálculos mátematicos, númericos, científicos y en el análisis de datos en grandes cantidades.\n",
        "Es de gran útilidad para realizar operaciones matemáticas. lleva a cabo operaciones en matrices al igual de cuadros multidimencionales entre mas cosas.\n",
        "puede ser utilizado como un eficiente contenedor multidimensional de datos genéricos."
      ],
      "metadata": {
        "id": "Rh-DLlSyDXjV"
      }
    },
    {
      "cell_type": "markdown",
      "source": [
        "***Numpy*** emplea una clase de objetos multidimencionales de nombre **arrays** los cuales permiten representar colecciones de datos de un mismo tipo de varias dimenciónes y funciones para su manipulación."
      ],
      "metadata": {
        "id": "tz4LEbf_FyQL"
      }
    },
    {
      "cell_type": "markdown",
      "source": [
        "**¿que es un array?**\n",
        "Es una estructura de datos de un mismo tipo organizada en forma de lista similares a las que se manejan en python las cuales pueden tener distintas dimenciones o ejes.\n",
        "\n"
      ],
      "metadata": {
        "id": "3w9AUJOaHWWH"
      }
    },
    {
      "cell_type": "code",
      "source": [
        "import numpy as np\n",
        "\n",
        "lista = [1, 2, 3]\n",
        "\n",
        "np.array(lista)"
      ],
      "metadata": {
        "colab": {
          "base_uri": "https://localhost:8080/"
        },
        "id": "6vAmDHo1gU4M",
        "outputId": "80384a87-179a-48ae-9a5d-03b58adae8b5"
      },
      "execution_count": 1,
      "outputs": [
        {
          "output_type": "execute_result",
          "data": {
            "text/plain": [
              "array([1, 2, 3])"
            ]
          },
          "metadata": {},
          "execution_count": 1
        }
      ]
    },
    {
      "cell_type": "markdown",
      "source": [
        " *En este apartado tomamos una lista normal y con la función ***np.array(...)***, la convertimos en un arreglo de esta libreria*"
      ],
      "metadata": {
        "id": "fAolmBrOVkWH"
      }
    },
    {
      "cell_type": "markdown",
      "source": [
        "**Dimenciones de los arrays**\\\n",
        " La dimención que tendra el array, va a  depender de las listas o tuplas anidadas en en la primera.\n",
        "\n",
        "las dimenciones pueden estar anidadas a cualquier cantidd de listas aumentando sus dimenciones sin  un limite establecido."
      ],
      "metadata": {
        "id": "EJKmcJ4Yj6mw"
      }
    },
    {
      "cell_type": "markdown",
      "source": [
        "\n",
        "* Para una lista de valores se crea un array de una dimensión, también conocido como vector.\n",
        "\n",
        "* Para una lista de listas de valores se crea un array de dos dimensiones, también conocido como matriz.\n",
        "\n",
        "* Para una lista de listas de listas de valores se crea un array de tres dimensiones, también conocido como cubo.\n",
        "\n"
      ],
      "metadata": {
        "id": "Gsr2AGN6vDrR"
      }
    }
  ]
}