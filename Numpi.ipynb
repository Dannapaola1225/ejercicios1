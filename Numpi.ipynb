{
  "nbformat": 4,
  "nbformat_minor": 0,
  "metadata": {
    "colab": {
      "provenance": [],
      "authorship_tag": "ABX9TyN7yRywRlE6csUb24KgP28x",
      "include_colab_link": true
    },
    "kernelspec": {
      "name": "python3",
      "display_name": "Python 3"
    },
    "language_info": {
      "name": "python"
    }
  },
  "cells": [
    {
      "cell_type": "markdown",
      "metadata": {
        "id": "view-in-github",
        "colab_type": "text"
      },
      "source": [
        "<a href=\"https://colab.research.google.com/github/Dannapaola1225/ejercicios1/blob/main/Numpi.ipynb\" target=\"_parent\"><img src=\"https://colab.research.google.com/assets/colab-badge.svg\" alt=\"Open In Colab\"/></a>"
      ]
    },
    {
      "cell_type": "markdown",
      "source": [
        "# **Libreria Numpy**\n",
        "*Tutorial*\n"
      ],
      "metadata": {
        "id": "p4OLicvQpJwm"
      }
    },
    {
      "cell_type": "markdown",
      "source": [
        "La libreria **NUMPY** especializa principalmente el la realización de cálculos mátematicos, númericos, científicos y en el análisis de datos en grandes cantidades.\n",
        "Es de gran útilidad para realizar operaciones matemáticas. lleva a cabo operaciones en matrices al igual de cuadros multidimencionales entre mas cosas.\n",
        "puede ser utilizado como un eficiente contenedor multidimensional de datos genéricos."
      ],
      "metadata": {
        "id": "Rh-DLlSyDXjV"
      }
    },
    {
      "cell_type": "markdown",
      "source": [
        "***Numpy*** emplea una clase de objetos multidimencionales de nombre **arrays** los cuales permiten representar colecciones de datos de un mismo tipo de varias dimenciónes y funciones para su manipulación."
      ],
      "metadata": {
        "id": "tz4LEbf_FyQL"
      }
    },
    {
      "cell_type": "markdown",
      "source": [
        "**¿que es un array?**\n",
        "Es una estructura de datos de un mismo tipo organizada en forma de lista similares a las que se manejan en python las cuales pueden tener distintas dimenciones o ejes.\n",
        "\n"
      ],
      "metadata": {
        "id": "3w9AUJOaHWWH"
      }
    },
    {
      "cell_type": "code",
      "source": [
        "import numpy as np\n",
        "\n",
        "lista = [1, 2, 3]\n",
        "\n",
        "np.array(lista)"
      ],
      "metadata": {
        "colab": {
          "base_uri": "https://localhost:8080/"
        },
        "id": "6vAmDHo1gU4M",
        "outputId": "80384a87-179a-48ae-9a5d-03b58adae8b5"
      },
      "execution_count": null,
      "outputs": [
        {
          "output_type": "execute_result",
          "data": {
            "text/plain": [
              "array([1, 2, 3])"
            ]
          },
          "metadata": {},
          "execution_count": 1
        }
      ]
    },
    {
      "cell_type": "markdown",
      "source": [
        " *En este apartado tomamos una lista normal y con la función ***np.array(...)***, la convertimos en un arreglo de esta libreria*"
      ],
      "metadata": {
        "id": "fAolmBrOVkWH"
      }
    },
    {
      "cell_type": "markdown",
      "source": [
        "**Dimenciones de los arrays**\\\n",
        " La dimención que tendra el array, va a  depender de las listas o tuplas anidadas en en la primera.\n",
        "\n",
        "las dimenciones pueden estar anidadas a cualquier cantidd de listas aumentando sus dimenciones sin  un limite establecido."
      ],
      "metadata": {
        "id": "EJKmcJ4Yj6mw"
      }
    },
    {
      "cell_type": "markdown",
      "source": [
        "\n",
        "* Para una lista de valores se crea un array de una dimensión, también conocido como vector.\n",
        "\n",
        "* Para una lista de listas de valores se crea un array de dos dimensiones, también conocido como matriz.\n",
        "\n",
        "* Para una lista de listas de listas de valores se crea un array de tres dimensiones, también conocido como cubo.\n",
        "\n"
      ],
      "metadata": {
        "id": "Gsr2AGN6vDrR"
      }
    },
    {
      "cell_type": "code",
      "source": [
        "import numpy as np\n",
        "l1=np.array([1,2,3]) #array con una dimensión\n",
        "print(l1)"
      ],
      "metadata": {
        "colab": {
          "base_uri": "https://localhost:8080/"
        },
        "id": "ZsTSxm-qV5AR",
        "outputId": "51b47476-e27a-43b6-c2e9-3fa3159cca01"
      },
      "execution_count": null,
      "outputs": [
        {
          "output_type": "stream",
          "name": "stdout",
          "text": [
            "[1 2 3]\n"
          ]
        }
      ]
    },
    {
      "cell_type": "code",
      "source": [
        "import numpy as np\n",
        "l2=np.array([[1,2,3],[4,5,6]]) #array con dos demensiones\n",
        "print(l2)"
      ],
      "metadata": {
        "colab": {
          "base_uri": "https://localhost:8080/"
        },
        "id": "4eHkCmv1a97d",
        "outputId": "ccd5dcc4-a4b7-4b34-c615-ccad96f29456"
      },
      "execution_count": null,
      "outputs": [
        {
          "output_type": "stream",
          "name": "stdout",
          "text": [
            "[[1 2 3]\n",
            " [4 5 6]]\n"
          ]
        }
      ]
    },
    {
      "cell_type": "code",
      "source": [
        "import numpy as np\n",
        "l3=np.array([[[1,2,3],[4,5,6],[7,8,9]]]) #array con tres demensiones\n",
        "print(l3)"
      ],
      "metadata": {
        "colab": {
          "base_uri": "https://localhost:8080/"
        },
        "id": "_Nu0UL3Va9j1",
        "outputId": "76fed9f1-e12a-4c41-8e28-e679f7ff7732"
      },
      "execution_count": null,
      "outputs": [
        {
          "output_type": "stream",
          "name": "stdout",
          "text": [
            "[[[1 2 3]\n",
            "  [4 5 6]\n",
            "  [7 8 9]]]\n"
          ]
        }
      ]
    },
    {
      "cell_type": "markdown",
      "source": [
        "rango de números\n",
        "arange toma dos números y devuelve un arreglo de números enteros que son mayores o iguales a (>=) el primer número y menores que (<) el segundo número."
      ],
      "metadata": {
        "id": "SpFSrsBdZqVH"
      }
    },
    {
      "cell_type": "code",
      "source": [
        "import numpy as np\n",
        "np.arange(0,6)# arroja los valores entre los intervalos\n"
      ],
      "metadata": {
        "colab": {
          "base_uri": "https://localhost:8080/"
        },
        "id": "taOtA3Q_RXyG",
        "outputId": "2f8634d0-1021-4c1b-f57b-02e1d00278cf"
      },
      "execution_count": 3,
      "outputs": [
        {
          "output_type": "execute_result",
          "data": {
            "text/plain": [
              "array([0, 1, 2, 3, 4, 5])"
            ]
          },
          "metadata": {},
          "execution_count": 3
        }
      ]
    },
    {
      "cell_type": "markdown",
      "source": [
        "arroja los valores cada 4 valor"
      ],
      "metadata": {
        "id": "R5D3qBXKVAHh"
      }
    },
    {
      "cell_type": "code",
      "source": [
        "import numpy as np\n",
        "np.arange(1,20,4) #"
      ],
      "metadata": {
        "colab": {
          "base_uri": "https://localhost:8080/"
        },
        "id": "5lLCI1tpSDgW",
        "outputId": "259815c3-453f-4891-f6f5-88563715015b"
      },
      "execution_count": 4,
      "outputs": [
        {
          "output_type": "execute_result",
          "data": {
            "text/plain": [
              "array([ 1,  5,  9, 13, 17])"
            ]
          },
          "metadata": {},
          "execution_count": 4
        }
      ]
    },
    {
      "cell_type": "markdown",
      "source": [
        " Crea y devuelve una referencia a un array con las dimensiones especificadas en la tupla dimensiones cuyos elementos son todos ceros."
      ],
      "metadata": {
        "id": "ZY6f-tYRU3jH"
      }
    },
    {
      "cell_type": "code",
      "source": [
        "import numpy as np\n",
        "np.zeros((3,2))"
      ],
      "metadata": {
        "colab": {
          "base_uri": "https://localhost:8080/"
        },
        "id": "xE_TL3a6Tm4k",
        "outputId": "c510e597-920f-4380-f7e4-6cebe660baed"
      },
      "execution_count": 8,
      "outputs": [
        {
          "output_type": "execute_result",
          "data": {
            "text/plain": [
              "array([[0., 0.],\n",
              "       [0., 0.],\n",
              "       [0., 0.]])"
            ]
          },
          "metadata": {},
          "execution_count": 8
        }
      ]
    },
    {
      "cell_type": "markdown",
      "source": [
        " Crea y devuelve una referencia a la matriz identidad de dimensión n"
      ],
      "metadata": {
        "id": "SDbIumdxV-hS"
      }
    },
    {
      "cell_type": "code",
      "source": [
        "import numpy as np\n",
        "np.identity((4))"
      ],
      "metadata": {
        "colab": {
          "base_uri": "https://localhost:8080/"
        },
        "id": "JkpEf_MaVEoq",
        "outputId": "e6c2086e-dcee-41e8-94e3-09c512cf7249"
      },
      "execution_count": 9,
      "outputs": [
        {
          "output_type": "execute_result",
          "data": {
            "text/plain": [
              "array([[1., 0., 0., 0.],\n",
              "       [0., 1., 0., 0.],\n",
              "       [0., 0., 1., 0.],\n",
              "       [0., 0., 0., 1.]])"
            ]
          },
          "metadata": {},
          "execution_count": 9
        }
      ]
    },
    {
      "cell_type": "markdown",
      "source": [
        "Crea y devuelve una referencia a un array con las dimensiones especificadas en la tupla dimensiones cuyos elementos son todos unos."
      ],
      "metadata": {
        "id": "oj9BI9ApWBmV"
      }
    },
    {
      "cell_type": "code",
      "source": [
        "np.ones((5))"
      ],
      "metadata": {
        "colab": {
          "base_uri": "https://localhost:8080/"
        },
        "id": "C3KO-CE4WOKE",
        "outputId": "8ef541c6-5948-49ba-a952-e4e26c602161"
      },
      "execution_count": 10,
      "outputs": [
        {
          "output_type": "execute_result",
          "data": {
            "text/plain": [
              "array([1., 1., 1., 1., 1.])"
            ]
          },
          "metadata": {},
          "execution_count": 10
        }
      ]
    },
    {
      "cell_type": "markdown",
      "source": [
        "Matriz inversa"
      ],
      "metadata": {
        "id": "0pIK4rX8WXOT"
      }
    }
  ]
}