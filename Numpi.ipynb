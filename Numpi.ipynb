{
  "nbformat": 4,
  "nbformat_minor": 0,
  "metadata": {
    "colab": {
      "provenance": [],
      "authorship_tag": "ABX9TyM78flhkLAyO0g5GWgsmuUF",
      "include_colab_link": true
    },
    "kernelspec": {
      "name": "python3",
      "display_name": "Python 3"
    },
    "language_info": {
      "name": "python"
    }
  },
  "cells": [
    {
      "cell_type": "markdown",
      "metadata": {
        "id": "view-in-github",
        "colab_type": "text"
      },
      "source": [
        "<a href=\"https://colab.research.google.com/github/Dannapaola1225/ejercicios1/blob/main/Numpi.ipynb\" target=\"_parent\"><img src=\"https://colab.research.google.com/assets/colab-badge.svg\" alt=\"Open In Colab\"/></a>"
      ]
    },
    {
      "cell_type": "markdown",
      "source": [
        "# **Libreria Numpy**\n",
        "*Tutorial*\n"
      ],
      "metadata": {
        "id": "p4OLicvQpJwm"
      }
    },
    {
      "cell_type": "markdown",
      "source": [
        "La libreria **NUMPY** especializa principalmente el la realización de cálculos mátematicos, númericos, científicos y en el análisis de datos en grandes cantidades.\n",
        "Es de gran útilidad para realizar operaciones matemáticas. lleva a cabo operaciones en matrices al igual de cuadros multidimencionales entre mas cosas.\n",
        "puede ser utilizado como un eficiente contenedor multidimensional de datos genéricos."
      ],
      "metadata": {
        "id": "Rh-DLlSyDXjV"
      }
    },
    {
      "cell_type": "markdown",
      "source": [
        "***Numpy*** emplea una clase de objetos multidimencionales de nombre **arrays** los cuales permiten representar colecciones de datos de un mismo tipo de varias dimenciónes y funciones para su manipulación."
      ],
      "metadata": {
        "id": "tz4LEbf_FyQL"
      }
    },
    {
      "cell_type": "markdown",
      "source": [
        "**¿que es un array?**\n",
        "Es una estructura de datos de un mismo tipo organizada en forma de lista similareas a las que se manejan en python tabla o cuadricula de distintas dimenciones o ejes.\n"
      ],
      "metadata": {
        "id": "3w9AUJOaHWWH"
      }
    },
    {
      "cell_type": "markdown",
      "source": [
        "* np.array(lista) : Crea un array a partir de la lista o tupla lista y devuelve una referencia a él. El número de dimensiones del array dependerá de las listas o tuplas anidadas en lista:\n",
        "\n",
        "* Para una lista de valores se crea un array de una dimensión, también conocido como vector.\n",
        "\n",
        "* Para una lista de listas de valores se crea un array de dos dimensiones, también conocido como matriz.\n",
        "\n",
        "* Para una lista de listas de listas de valores se crea un array de tres dimensiones, también conocido como cubo.\n",
        "\n",
        "* Y así sucesivamente. No hay límite en el número de dimensiones del array más allá de la memoria disponible en el sistema."
      ],
      "metadata": {
        "id": "Gsr2AGN6vDrR"
      }
    },
    {
      "cell_type": "code",
      "source": [
        "import numpy as np\n",
        "\n",
        "sample_list = [1, 2, 3]\n",
        "\n",
        "np.array(sample_list)"
      ],
      "metadata": {
        "colab": {
          "base_uri": "https://localhost:8080/"
        },
        "id": "6vAmDHo1gU4M",
        "outputId": "80384a87-179a-48ae-9a5d-03b58adae8b5"
      },
      "execution_count": 1,
      "outputs": [
        {
          "output_type": "execute_result",
          "data": {
            "text/plain": [
              "array([1, 2, 3])"
            ]
          },
          "metadata": {},
          "execution_count": 1
        }
      ]
    }
  ]
}