{
  "nbformat": 4,
  "nbformat_minor": 0,
  "metadata": {
    "colab": {
      "provenance": [],
      "authorship_tag": "ABX9TyMZXpW4CGC4DGSmj95BR+uo",
      "include_colab_link": true
    },
    "kernelspec": {
      "name": "python3",
      "display_name": "Python 3"
    },
    "language_info": {
      "name": "python"
    }
  },
  "cells": [
    {
      "cell_type": "markdown",
      "metadata": {
        "id": "view-in-github",
        "colab_type": "text"
      },
      "source": [
        "<a href=\"https://colab.research.google.com/github/Dannapaola1225/ejercicios1/blob/main/M%C3%A9todo%20Steffensen.ipynb\" target=\"_parent\"><img src=\"https://colab.research.google.com/assets/colab-badge.svg\" alt=\"Open In Colab\"/></a>"
      ]
    },
    {
      "cell_type": "code",
      "execution_count": 1,
      "metadata": {
        "id": "ZebPENDvnksR"
      },
      "outputs": [],
      "source": [
        "from math import *\n",
        "import math\n",
        "import numpy as np\n",
        "import matplotlib . pyplot as plt # libreria para graficar"
      ]
    },
    {
      "cell_type": "code",
      "source": [
        "#definimos la función con la que vamos a trabajar\n",
        "def f(x):\n",
        "    return  np.cos(x)-2*(x)+3 # función original\n",
        "def g(x):\n",
        "    return  (np.cos(x)+3)/2 # función transformada de f(x) => 0(x)"
      ],
      "metadata": {
        "id": "gdjZowC8oIJy"
      },
      "execution_count": 2,
      "outputs": []
    },
    {
      "cell_type": "code",
      "source": [
        "x=np.linspace(0,2,100)\n",
        "plt.plot(x,f(x))\n",
        "plt.plot(x,g(x))\n",
        "plt.axhline(0, color=\"black\")\n",
        "plt.axvline(0, color=\"black\")\n",
        "#plt.xlim(-5, 5)\n",
        "#plt.ylim(-5, 5)\n",
        "plt.show()\n",
        ""
      ],
      "metadata": {
        "colab": {
          "base_uri": "https://localhost:8080/",
          "height": 430
        },
        "id": "alkDF5N5OqVZ",
        "outputId": "257aa193-b02f-4641-f681-a30938ed368d"
      },
      "execution_count": 3,
      "outputs": [
        {
          "output_type": "display_data",
          "data": {
            "text/plain": [
              "<Figure size 640x480 with 1 Axes>"
            ],
            "image/png": "[encoded data removed]"
          },
          "metadata": {}
        }
      ]
    },
    {
      "cell_type": "code",
      "source": [
        "#guarda valores iniciales del error, número de iteraciones y la función\n",
        "p0=1 # aproximación inicial\n",
        "Nom = 100 #número maximo de iteraciones\n",
        "tol = 10**(-5) #tolerancia de 0.00001\n",
        "error =100\n",
        "niter = 0 #contador de iteraciones (i)"
      ],
      "metadata": {
        "id": "YAp1DZeVoHXy"
      },
      "execution_count": 4,
      "outputs": []
    },
    {
      "cell_type": "code",
      "source": [
        "#estructura de la tabla\n",
        "print(\"# iter\\t\\t p\\t\\t pn+1 \\t\\t error\")#imprimimos el encabezado\n",
        "# comenzamos a aplicar el método de Steffensen\n",
        "#realizamos el ciclo de iteraciones\n",
        "#expresamos la condición en dónde si i(numero de iteraciones)<=No(número máximo de iteraciones) y tambien si error> tol\n",
        "while  (niter<=Nom)and (error>tol) : #ciclo iterativo\n",
        "       # Calcular p1 y p2\n",
        "        p1 = g(p0)\n",
        "        p2 = g(p1)\n",
        "        # Aplicar la fórmula de Steffensen\n",
        "        d = p0 - ((p1 - p0) ** 2) / (p2 - 2 * p1 + p0)\n",
        "\n",
        "        #calculamos el error de la iteración\n",
        "        error=abs(d-p0)\n",
        "#imprime los valores arrojados\n",
        "        print(\"{0} \\t\\t {1:6.6f} \\t {2:6.6f} \\t {3:6.6f} \".format(niter, p0, d, error ))\n",
        "\n",
        "#ponemos una condición en dónde si el error es menor que la tolerancia, el procedimiento será exitoso\n",
        "        if error < tol:\n",
        "         print(f\"Convergencia alcanzada en la iteración {niter}.\")\n",
        "        break  # Salimos del bucle si se alcanza la tolerancia\n",
        "\n",
        "        p0=p#damos el nuevo valor a p0 que seria p, esto es para la sig. iteración\n",
        "        niter += 1 #aumenta el numero del contador de iteraciones\n",
        "\n",
        "        if niter==Nom:\n",
        "         print(\"el procedimiento no fue exitoso, no converge en el número máximo de iteraciones \")\n",
        "#print(\"la fúncion a la que sacamos la raiz es\",g)\n",
        "print(\"La raíz de la función es {0:6.7f}\".format(d))\n",
        "print (\"con un error de:{0:6.7f}\".format(error))"
      ],
      "metadata": {
        "colab": {
          "base_uri": "https://localhost:8080/"
        },
        "id": "ESxYW2GcoZ_2",
        "outputId": "ee610aed-ebf3-427b-c888-3bf5aa584454"
      },
      "execution_count": 14,
      "outputs": [
        {
          "output_type": "stream",
          "name": "stdout",
          "text": [
            "# iter\t\t p\t\t pn+1 \t\t error\n",
            "0 \t\t 1.000000 \t 1.520602 \t 0.520602 \n",
            "La raíz de la función es 1.5206021\n",
            "con un error de:0.5206021\n"
          ]
        }
      ]
    }
  ]
}