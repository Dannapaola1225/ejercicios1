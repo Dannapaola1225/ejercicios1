{
  "nbformat": 4,
  "nbformat_minor": 0,
  "metadata": {
    "colab": {
      "provenance": [],
      "authorship_tag": "ABX9TyP/uwQ7BAJEmVbmo2Qs6ap8",
      "include_colab_link": true
    },
    "kernelspec": {
      "name": "python3",
      "display_name": "Python 3"
    },
    "language_info": {
      "name": "python"
    }
  },
  "cells": [
    {
      "cell_type": "markdown",
      "metadata": {
        "id": "view-in-github",
        "colab_type": "text"
      },
      "source": [
        "<a href=\"https://colab.research.google.com/github/Dannapaola1225/ejercicios1/blob/main/m%C3%BCller%20.ipynb\" target=\"_parent\"><img src=\"https://colab.research.google.com/assets/colab-badge.svg\" alt=\"Open In Colab\"/></a>"
      ]
    },
    {
      "cell_type": "code",
      "source": [],
      "metadata": {
        "id": "Fvr7z0WnGQi7"
      },
      "execution_count": null,
      "outputs": []
    },
    {
      "cell_type": "markdown",
      "source": [
        "# ***Método de Müller***\n",
        "\n"
      ],
      "metadata": {
        "id": "lOgXCuF9cpeU"
      }
    },
    {
      "cell_type": "markdown",
      "source": [
        "para este método, se hace uso del polinomio f(x)=$x^{4}-3x^{3}+x^{2}+x+x$ .\n",
        "\n",
        "Este método hace aproximaciones de raices complejas de un polinomio. su comportamiento es similar al del métodio de la secante con la diferencia de que en el de la secante, se hace usos de una recta que pasa por dos puntos en la curva para aproximar la raíz,  mientras que een el método de Müller empleamos una parábola tomando en cuenta tres puntos en la curva para la aproximación."
      ],
      "metadata": {
        "id": "jaQMSBpLc9aB"
      }
    },
    {
      "cell_type": "code",
      "execution_count": null,
      "metadata": {
        "id": "3InDzaVvS8ac"
      },
      "outputs": [],
      "source": [
        "from math import * #libreria para operaciones matemáticas\n",
        "import numpy as np\n",
        "import matplotlib . pyplot as plt # libreria para graficar"
      ]
    },
    {
      "cell_type": "markdown",
      "source": [
        "Identificamos la función f(x)"
      ],
      "metadata": {
        "id": "_lrJYzHQeM11"
      }
    },
    {
      "cell_type": "code",
      "source": [
        "#colocamos la función dada\n",
        "def f(x):\n",
        "    return x**3 - 10*x**2 + x -10\n"
      ],
      "metadata": {
        "id": "jnTdl5yjO3oU"
      },
      "execution_count": 32,
      "outputs": []
    },
    {
      "cell_type": "markdown",
      "source": [],
      "metadata": {
        "id": "EgaqVc2qf6Io"
      }
    },
    {
      "cell_type": "markdown",
      "source": [
        "colocamos los valores iniciales, indispensables para calcular las raices por este método\n",
        "\n"
      ],
      "metadata": {
        "id": "njCMM8Ozf4wH"
      }
    },
    {
      "cell_type": "code",
      "source": [
        "#valores iniciales\n",
        "x0= complex(0.5) #primer aproximación inicial\n",
        "x1= complex(-0.5) #segunda aroximación inicial\n",
        "x2= complex(0.0) #tercer aproximación inicial\n",
        "Tol= 10**(-5) #tolerancia de 0.00001\n",
        "Nom= 100 #número maximo de iteraciones\n",
        "niter = 3 #contador de iteraciones (i)"
      ],
      "metadata": {
        "id": "s5DRgYtSaZ4K"
      },
      "execution_count": 33,
      "outputs": []
    },
    {
      "cell_type": "code",
      "source": [
        "print(\"Método de Muller\")\n",
        "print(\"-------------------------------------------------------------------------\")\n",
        "print(\"     p0=\",x0,\"     p1=\",x1,\"     p2=\",x2)\n",
        "print(\"-------------------------------------------------------------------------\")\n",
        "  #estructura de la tabla\n",
        "print(\"# iter\\t\\t X3 \\t\\t p(X3) \\t\\t error\")\n",
        "print(\"-------------------------------------------------------------------------\")\n",
        "\n",
        "# Expresamos la condición\n",
        "while niter < Nom:  # ciclo iterativo\n",
        "\n",
        "    # Calculamos los siguientes valores para encontrar a, b y c\n",
        "    h1= x1-x0\n",
        "    h2= x2-x1\n",
        "    δ1= (f(x1)-f(x0))/h1\n",
        "    δ2= (f(x2)-f(x1))/h2\n",
        "\n",
        "      #calculamos a, b y c\n",
        "    a= (δ2-δ1)/(h1+h2)\n",
        "    b= δ2+h2 * a\n",
        "    c= f(x2)\n",
        "        #definimos la formúla para x3\n",
        "    x3= x2+(-2*c/(b+np.sign(b)*np.sqrt(b**2-4*a*c)))\n",
        "        #calculamos el valor de la función evaluada en x3\n",
        "    d= f(x3)\n",
        "    error=abs(x3 - x2) #calculamos el error\n",
        "\n",
        "        #imprime los valores arrojados\n",
        "    print(\"{0} \\t\\t {1:6.6f} \\t {2:6.6f} \\t {3:6.6f} \".format(niter, x3, d, error))\n",
        "\n",
        "\n",
        "    if error <= Tol:\n",
        "     break\n",
        "\n",
        "      # actualiza los valores de las raíces\n",
        "    x0= x1\n",
        "    x1= x2\n",
        "    x2= x3\n",
        "    error=abs(x3-x2)\n",
        "    niter += 1  # actualiza el contador\n",
        "\n",
        "print(\"La raíz de la función dada es {0:6.7f}\".format(x3))\n",
        "print (f\"con un error de:{error:6.7f} despúes de:{niter:6.0f} iteraciones\")\n",
        "print"
      ],
      "metadata": {
        "colab": {
          "base_uri": "https://localhost:8080/"
        },
        "id": "GIGmwFKccaa1",
        "outputId": "75920faf-6b1f-4813-c358-5544d009e3b1"
      },
      "execution_count": 34,
      "outputs": [
        {
          "output_type": "stream",
          "name": "stdout",
          "text": [
            "Método de Muller\n",
            "-------------------------------------------------------------------------\n",
            "     p0= (0.5+0j)      p1= (-0.5+0j)      p2= 0j\n",
            "-------------------------------------------------------------------------\n",
            "# iter\t\t X3 \t\t p(X3) \t\t error\n",
            "-------------------------------------------------------------------------\n",
            "3 \t\t 0.062500-0.998045j \t -0.202148+1.231962j \t 1.000000 \n",
            "4 \t\t 0.001478-1.003086j \t 0.058810+0.035854j \t 0.061229 \n",
            "5 \t\t -0.000004-0.999990j \t -0.000191-0.000099j \t 0.003433 \n",
            "6 \t\t -0.000000-1.000000j \t -0.000000-0.000000j \t 0.000011 \n",
            "7 \t\t 0.000000-1.000000j \t 0.000000+0.000000j \t 0.000000 \n",
            "La raíz de la función dada es 0.0000000-1.0000000j\n",
            "con un error de:0.0000000 despúes de:     7 iteraciones\n"
          ]
        }
      ]
    },
    {
      "cell_type": "markdown",
      "source": [
        "En este apartado, se realiza la gráfica en dónde es posible visualizar el comportamiento de la función dada"
      ],
      "metadata": {
        "id": "VgySIMXRd280"
      }
    },
    {
      "cell_type": "code",
      "source": [
        "# Generar valores para x\n",
        "x = np.linspace(-10, 10, 200)\n",
        "\n",
        "# Crear la gráfica\n",
        "plt.plot(x, f(x), color=\"purple\", label='f(x) = $x^{4}-3x^{3}+x^{2}+x+1$')  # Gráfica de f(x)\n",
        "\n",
        "plt.axhline(0, color=\"black\")\n",
        "plt.axvline(0, color=\"black\")\n",
        "plt.title('Gráfica de la función f(x) ')#titulo de la gráfica\n",
        "plt.legend()#imprime leyenda\n",
        "plt.grid(color=\"pink\")#imprime cuadricula color rosa\n",
        "plt.xlabel('Eje X')# enunciado del eje x\n",
        "plt.ylabel('Eje Y')# enunciado del eje y\n",
        "# Coordenadas de la raiz de f(x)\n",
        "x = [0]\n",
        "y = [0]\n",
        "#anotacion de donde se encuentra la raiz\n",
        "#plt.annotate('Raiz de la función', xy=(-1.738956, 0), xytext=(2, 2.6),\n",
        "#             arrowprops=dict(facecolor='red', shrink=-1.55))\n",
        "#plt.scatter(x, y, color='red')\n",
        "plt.xlim(-2, 4)\n",
        "plt.ylim(-2, 4)\n",
        "#muestra la gráfica\n",
        "plt.show()"
      ],
      "metadata": {
        "colab": {
          "base_uri": "https://localhost:8080/",
          "height": 472
        },
        "id": "aQ35gcUxZNlz",
        "outputId": "9c79a77b-c726-47c7-e07c-523285be2879"
      },
      "execution_count": null,
      "outputs": [
        {
          "output_type": "display_data",
          "data": {
            "text/plain": [
              "<Figure size 640x480 with 1 Axes>"
            ],
            "image/png": "[encoded data removed]"
          },
          "metadata": {}
        }
      ]
    },
    {
      "cell_type": "markdown",
      "source": [],
      "metadata": {
        "id": "5ugwfZXlcod3"
      }
    }
  ]
}