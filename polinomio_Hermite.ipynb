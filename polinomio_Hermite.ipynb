{
  "nbformat": 4,
  "nbformat_minor": 0,
  "metadata": {
    "colab": {
      "provenance": [],
      "authorship_tag": "ABX9TyN/DScVK6JeHxBlW4Lk4zMo",
      "include_colab_link": true
    },
    "kernelspec": {
      "name": "python3",
      "display_name": "Python 3"
    },
    "language_info": {
      "name": "python"
    }
  },
  "cells": [
    {
      "cell_type": "markdown",
      "metadata": {
        "id": "view-in-github",
        "colab_type": "text"
      },
      "source": [
        "<a href=\"https://colab.research.google.com/github/Dannapaola1225/ejercicios1/blob/main/polinomio_Hermite.ipynb\" target=\"_parent\"><img src=\"https://colab.research.google.com/assets/colab-badge.svg\" alt=\"Open In Colab\"/></a>"
      ]
    },
    {
      "cell_type": "markdown",
      "source": [
        "# **Polinomio de Hermite**"
      ],
      "metadata": {
        "id": "lk4qm1sbl75E"
      }
    },
    {
      "cell_type": "code",
      "execution_count": 46,
      "metadata": {
        "id": "39Uw01fdNT6Y"
      },
      "outputs": [],
      "source": [
        "#librerias a emplear\n",
        "import numpy as np\n",
        "import sympy as sp"
      ]
    },
    {
      "cell_type": "code",
      "source": [
        "#en este espacio, se colocaron los valores iniciales dados para realizar el polinomio y la evaluación\n",
        "xi=[1.3, 1.6, 1.9]\n",
        "fx=[0.6200860, 0.4554022, 0.2818186]\n",
        "dfx=[-0.5220232, -0.5698959, -0.5811571]\n",
        "x=1.5"
      ],
      "metadata": {
        "id": "H2so4vdPNdcZ"
      },
      "execution_count": 47,
      "outputs": []
    },
    {
      "cell_type": "code",
      "source": [
        "#se crea una tabla con los datos dados\n",
        "from tabulate import tabulate\n",
        "\n",
        "# Crear la tabla uniendo los datos\n",
        "datos = [[i, xi[i], fx[i], dfx[i]] for i in range(len(xi))]\n",
        "\n",
        "# Encabezados de las columnas\n",
        "columnas = [\"k\", \"xk\", \"f(xk)\", \"f'(xk)\"]\n",
        "tablaa = tabulate(datos, headers=columnas, tablefmt=\"pretty\")"
      ],
      "metadata": {
        "id": "u2ovh_bKi2Zp"
      },
      "execution_count": 48,
      "outputs": []
    },
    {
      "cell_type": "code",
      "source": [
        "def Hermite(xi, fi, dfi, x):\n",
        "    n = len(xi)\n",
        "    z = np.zeros(2 * n)  # Nodos duplicados\n",
        "    Q = np.zeros((2 * n, 2 * n))  # Tabla de coeficientes del metodo de dif divididas\n",
        "\n",
        "    # Paso 1: creamos el bucle de iteraciones\n",
        "    for i in range(n):\n",
        "    # Paso 2: Inicializar nodos y primera columna de Q\n",
        "        z[2 * i] = xi[i]\n",
        "        z[2 * i + 1] = xi[i]\n",
        "        Q[2 * i][0] = fi[i]\n",
        "        Q[2 * i + 1][0] = fi[i]\n",
        "        Q[2 * i + 1][1] = dfi[i]\n",
        "\n",
        "    # Paso 3: Calcular Q para las diferencias divididas entre nodos duplicados\n",
        "        if i != 0:\n",
        "            Q[2 * i][1] = (Q[2 * i][0] - Q[2 * i - 1][0]) / (z[2 * i] - z[2 * i - 1])\n",
        "\n",
        "    # Paso 4: Calcular el resto de la tabla (diferencias divididas superiores)\n",
        "    for i in range(2, 2 * n):  # Recorrer columnas\n",
        "        for j in range(i, 2 * n):  # Recorrer filas desde la diagonal principal\n",
        "            Q[j][i] = (Q[j][i - 1] - Q[j - 1][i - 1]) / (z[j] - z[j - i])\n",
        "\n",
        "    return Q, z\n",
        "\n",
        "# Llamar a la función Hermite para realizar la tabla de dif divididas\n",
        "Q, z = Hermite(xi, fx, dfx, x)\n",
        "\n",
        "# Crear la tabla incluyendo los nodos Z como primera columna\n",
        "datos = [[z[i]] + list(Q[i]) for i in range(len(z))]\n",
        "\n",
        "# Encabezados de las columnas\n",
        "columnas = [\"z\"] + [f\"Q{i}\" for i in range(len(Q))]\n",
        "\n",
        "# Mostrar la tabla con tabulate\n",
        "tabla_difd_num = np.around(Q, decimals=7)\n",
        "tabla_difd = tabulate(datos, headers=columnas, tablefmt=\"pretty\")\n",
        "\n",
        "#Realizamos el polinomio  de Hermite con respecto a a tabla obtenida\n",
        "    # Elabora los coeficientes del polinomio de Hermite\n",
        "n = len(xi)\n",
        "coef = [Q[i][i] for i in range(2 * n)]\n",
        "\n",
        "    # se realiza  el polinomio de Hermite\n",
        "polinomio = f\"{coef[0]}\"\n",
        "for i in range(1, 2 * n):\n",
        "        term = f\"{coef[i]}\"\n",
        "        for j in range(i):\n",
        "            term += f\"*(x - {z[j]})\"\n",
        "        polinomio += \" + \" + term\n",
        "\n",
        "    # Se realiza la evaluación de x en el polinomio obtenido anteriormente.\n",
        "valor_polinomio = coef[0]\n",
        "for i in range(1, 2 * n):\n",
        "        valor = coef[i]\n",
        "        for j in range(i):\n",
        "            valor *= (x - z[j])\n",
        "        valor_polinomio += valor\n"
      ],
      "metadata": {
        "id": "glbNPAJoRXKg"
      },
      "execution_count": 49,
      "outputs": []
    },
    {
      "cell_type": "code",
      "source": [
        "# Mostrar tabla de datos iniciales dados\n",
        "print(\"Tabla de datos iniciales dados para realizar el polinomio de Hermite:\")\n",
        "print(tablaa)\n",
        "\n",
        "# Muestra la tabla de dif divididas realizada para obtener el polinomio\n",
        "print(\"\\nTabla de diferencias divididas (Q):\")\n",
        "print(tabla_difd)\n",
        "\n",
        "#Muesta el polinomio obtenido\n",
        "print(\"\\nEl Polinomio de Hermite obtenido es:\")\n",
        "print((f\"H(x) = {polinomio}\"))\n",
        "\n",
        "#muestra el valor del polinomio evaluado en 1.5\n",
        "print(\"\\nValor del polinomio  evaluado en x = 1.5 es:\")\n",
        "print(f\"H({x}) = {valor_polinomio}\")"
      ],
      "metadata": {
        "colab": {
          "base_uri": "https://localhost:8080/"
        },
        "id": "mYHp1NTVlgLl",
        "outputId": "61b36ed7-56cc-4db8-8d7e-f38181edfc7f"
      },
      "execution_count": 51,
      "outputs": [
        {
          "output_type": "stream",
          "name": "stdout",
          "text": [
            "Tabla de datos iniciales dados para realizar el polinomio de Hermite:\n",
            "+---+-----+-----------+------------+\n",
            "| k | xk  |   f(xk)   |   f'(xk)   |\n",
            "+---+-----+-----------+------------+\n",
            "| 0 | 1.3 | 0.620086  | -0.5220232 |\n",
            "| 1 | 1.6 | 0.4554022 | -0.5698959 |\n",
            "| 2 | 1.9 | 0.2818186 | -0.5811571 |\n",
            "+---+-----+-----------+------------+\n",
            "\n",
            "Tabla de diferencias divididas (Q):\n",
            "+-----+-----------+---------------------+-----------------------+---------------------+----------------------+------------------------+\n",
            "|  z  |    Q0     |         Q1          |          Q2           |         Q3          |          Q4          |           Q5           |\n",
            "+-----+-----------+---------------------+-----------------------+---------------------+----------------------+------------------------+\n",
            "| 1.3 | 0.620086  |         0.0         |          0.0          |         0.0         |         0.0          |          0.0           |\n",
            "| 1.3 | 0.620086  |     -0.5220232      |          0.0          |         0.0         |         0.0          |          0.0           |\n",
            "| 1.6 | 0.4554022 |      -0.548946      | -0.08974266666666673  |         0.0         |         0.0          |          0.0           |\n",
            "| 1.6 | 0.4554022 |     -0.5698959      | -0.06983299999999988  | 0.06636555555555616 |         0.0          |          0.0           |\n",
            "| 1.9 | 0.2818186 | -0.5786120000000003 | -0.02905366666666781  | 0.06796555555555346 | 0.002666666666662164 |          0.0           |\n",
            "| 1.9 | 0.2818186 |     -0.5811571      | -0.008483666666665451 | 0.06856666666667456 |  0.0010018518518685  | -0.0027746913579894407 |\n",
            "+-----+-----------+---------------------+-----------------------+---------------------+----------------------+------------------------+\n",
            "\n",
            "El Polinomio de Hermite obtenido es:\n",
            "H(x) = 0.620086 + -0.5220232*(x - 1.3) + -0.08974266666666673*(x - 1.3)*(x - 1.3) + 0.06636555555555616*(x - 1.3)*(x - 1.3)*(x - 1.6) + 0.002666666666662164*(x - 1.3)*(x - 1.3)*(x - 1.6)*(x - 1.6) + -0.0027746913579894407*(x - 1.3)*(x - 1.3)*(x - 1.6)*(x - 1.6)*(x - 1.9)\n",
            "\n",
            "Valor del polinomio  evaluado en x = 1.5 es:\n",
            "H(1.5) = 0.5118277017283951\n"
          ]
        }
      ]
    }
  ]
}